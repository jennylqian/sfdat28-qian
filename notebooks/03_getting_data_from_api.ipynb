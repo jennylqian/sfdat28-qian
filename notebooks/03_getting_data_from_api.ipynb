{
 "cells": [
  {
   "cell_type": "code",
   "execution_count": 6,
   "metadata": {
    "collapsed": false
   },
   "outputs": [
    {
     "data": {
      "text/plain": [
       "'\\nCLASS: Getting Data from APIs\\n\\nWhat is an API?\\n- Application Programming Interface\\n- Structured way to expose specific functionality and data access to users\\n- Web APIs usually follow the \"REST\" standard\\n\\nHow to interact with an API:\\n- Make a \"request\" to a specific URL (an \"endpoint\"), and get the data back in a \"response\"\\n- Most relevant request method for us is GET (other methods: POST, PUT, DELETE)\\n- Response is often JSON format\\n- Web console is sometimes available (allows you to explore an API)\\n'"
      ]
     },
     "execution_count": 6,
     "metadata": {},
     "output_type": "execute_result"
    }
   ],
   "source": [
    "'''\n",
    "CLASS: Getting Data from APIs\n",
    "\n",
    "What is an API?\n",
    "- Application Programming Interface\n",
    "- Structured way to expose specific functionality and data access to users\n",
    "- Web APIs usually follow the \"REST\" standard\n",
    "\n",
    "How to interact with an API:\n",
    "- Make a \"request\" to a specific URL (an \"endpoint\"), and get the data back in a \"response\"\n",
    "- Most relevant request method for us is GET (other methods: POST, PUT, DELETE)\n",
    "- Response is often JSON format\n",
    "- Web console is sometimes available (allows you to explore an API)\n",
    "'''"
   ]
  },
  {
   "cell_type": "code",
   "execution_count": 7,
   "metadata": {
    "collapsed": false
   },
   "outputs": [],
   "source": [
    "import pandas as pd\n",
    "import requests"
   ]
  },
  {
   "cell_type": "code",
   "execution_count": 8,
   "metadata": {
    "collapsed": false
   },
   "outputs": [
    {
     "data": {
      "text/html": [
       "<div>\n",
       "<table border=\"1\" class=\"dataframe\">\n",
       "  <thead>\n",
       "    <tr style=\"text-align: right;\">\n",
       "      <th></th>\n",
       "      <th>star_rating</th>\n",
       "      <th>title</th>\n",
       "      <th>content_rating</th>\n",
       "      <th>genre</th>\n",
       "      <th>duration</th>\n",
       "      <th>actors_list</th>\n",
       "    </tr>\n",
       "  </thead>\n",
       "  <tbody>\n",
       "    <tr>\n",
       "      <th>0</th>\n",
       "      <td>9.3</td>\n",
       "      <td>The Shawshank Redemption</td>\n",
       "      <td>R</td>\n",
       "      <td>Crime</td>\n",
       "      <td>142</td>\n",
       "      <td>[u'Tim Robbins', u'Morgan Freeman', u'Bob Gunt...</td>\n",
       "    </tr>\n",
       "    <tr>\n",
       "      <th>1</th>\n",
       "      <td>9.2</td>\n",
       "      <td>The Godfather</td>\n",
       "      <td>R</td>\n",
       "      <td>Crime</td>\n",
       "      <td>175</td>\n",
       "      <td>[u'Marlon Brando', u'Al Pacino', u'James Caan']</td>\n",
       "    </tr>\n",
       "    <tr>\n",
       "      <th>2</th>\n",
       "      <td>9.1</td>\n",
       "      <td>The Godfather: Part II</td>\n",
       "      <td>R</td>\n",
       "      <td>Crime</td>\n",
       "      <td>200</td>\n",
       "      <td>[u'Al Pacino', u'Robert De Niro', u'Robert Duv...</td>\n",
       "    </tr>\n",
       "    <tr>\n",
       "      <th>3</th>\n",
       "      <td>9.0</td>\n",
       "      <td>The Dark Knight</td>\n",
       "      <td>PG-13</td>\n",
       "      <td>Action</td>\n",
       "      <td>152</td>\n",
       "      <td>[u'Christian Bale', u'Heath Ledger', u'Aaron E...</td>\n",
       "    </tr>\n",
       "    <tr>\n",
       "      <th>4</th>\n",
       "      <td>8.9</td>\n",
       "      <td>Pulp Fiction</td>\n",
       "      <td>R</td>\n",
       "      <td>Crime</td>\n",
       "      <td>154</td>\n",
       "      <td>[u'John Travolta', u'Uma Thurman', u'Samuel L....</td>\n",
       "    </tr>\n",
       "  </tbody>\n",
       "</table>\n",
       "</div>"
      ],
      "text/plain": [
       "   star_rating                     title content_rating   genre  duration  \\\n",
       "0          9.3  The Shawshank Redemption              R   Crime       142   \n",
       "1          9.2             The Godfather              R   Crime       175   \n",
       "2          9.1    The Godfather: Part II              R   Crime       200   \n",
       "3          9.0           The Dark Knight          PG-13  Action       152   \n",
       "4          8.9              Pulp Fiction              R   Crime       154   \n",
       "\n",
       "                                         actors_list  \n",
       "0  [u'Tim Robbins', u'Morgan Freeman', u'Bob Gunt...  \n",
       "1    [u'Marlon Brando', u'Al Pacino', u'James Caan']  \n",
       "2  [u'Al Pacino', u'Robert De Niro', u'Robert Duv...  \n",
       "3  [u'Christian Bale', u'Heath Ledger', u'Aaron E...  \n",
       "4  [u'John Travolta', u'Uma Thurman', u'Samuel L....  "
      ]
     },
     "execution_count": 8,
     "metadata": {},
     "output_type": "execute_result"
    }
   ],
   "source": [
    "# read IMDb data into a DataFrame: we want a year column!\n",
    "movies = pd.read_csv('../data/imdb_1000.csv')\n",
    "movies.head()"
   ]
  },
  {
   "cell_type": "code",
   "execution_count": 9,
   "metadata": {
    "collapsed": false
   },
   "outputs": [
    {
     "name": "stdout",
     "output_type": "stream",
     "text": [
      "(979, 6)\n"
     ]
    },
    {
     "data": {
      "text/html": [
       "<div>\n",
       "<table border=\"1\" class=\"dataframe\">\n",
       "  <thead>\n",
       "    <tr style=\"text-align: right;\">\n",
       "      <th></th>\n",
       "      <th>star_rating</th>\n",
       "      <th>duration</th>\n",
       "    </tr>\n",
       "  </thead>\n",
       "  <tbody>\n",
       "    <tr>\n",
       "      <th>count</th>\n",
       "      <td>979.000000</td>\n",
       "      <td>979.000000</td>\n",
       "    </tr>\n",
       "    <tr>\n",
       "      <th>mean</th>\n",
       "      <td>7.889785</td>\n",
       "      <td>120.979571</td>\n",
       "    </tr>\n",
       "    <tr>\n",
       "      <th>std</th>\n",
       "      <td>0.336069</td>\n",
       "      <td>26.218010</td>\n",
       "    </tr>\n",
       "    <tr>\n",
       "      <th>min</th>\n",
       "      <td>7.400000</td>\n",
       "      <td>64.000000</td>\n",
       "    </tr>\n",
       "    <tr>\n",
       "      <th>25%</th>\n",
       "      <td>7.600000</td>\n",
       "      <td>102.000000</td>\n",
       "    </tr>\n",
       "    <tr>\n",
       "      <th>50%</th>\n",
       "      <td>7.800000</td>\n",
       "      <td>117.000000</td>\n",
       "    </tr>\n",
       "    <tr>\n",
       "      <th>75%</th>\n",
       "      <td>8.100000</td>\n",
       "      <td>134.000000</td>\n",
       "    </tr>\n",
       "    <tr>\n",
       "      <th>max</th>\n",
       "      <td>9.300000</td>\n",
       "      <td>242.000000</td>\n",
       "    </tr>\n",
       "  </tbody>\n",
       "</table>\n",
       "</div>"
      ],
      "text/plain": [
       "       star_rating    duration\n",
       "count   979.000000  979.000000\n",
       "mean      7.889785  120.979571\n",
       "std       0.336069   26.218010\n",
       "min       7.400000   64.000000\n",
       "25%       7.600000  102.000000\n",
       "50%       7.800000  117.000000\n",
       "75%       8.100000  134.000000\n",
       "max       9.300000  242.000000"
      ]
     },
     "execution_count": 9,
     "metadata": {},
     "output_type": "execute_result"
    }
   ],
   "source": [
    "print movies.shape\n",
    "movies.describe()"
   ]
  },
  {
   "cell_type": "code",
   "execution_count": 6,
   "metadata": {
    "collapsed": false
   },
   "outputs": [],
   "source": [
    "###### exercise #######\n",
    "\n",
    "# Is the title column unique? If not, what are the non unique names?\n",
    "\n",
    "\n",
    "\n",
    "# answer below"
   ]
  },
  {
   "cell_type": "code",
   "execution_count": 15,
   "metadata": {
    "collapsed": false
   },
   "outputs": [
    {
     "data": {
      "text/plain": [
       "The Girl with the Dragon Tattoo    2\n",
       "Dracula                            2\n",
       "Les Miserables                     2\n",
       "True Grit                          2\n",
       "Kung Fu Hustle                     1\n",
       "Name: title, dtype: int64"
      ]
     },
     "execution_count": 15,
     "metadata": {},
     "output_type": "execute_result"
    }
   ],
   "source": [
    "# option 1\n",
    "movies.title.value_counts().head()"
   ]
  },
  {
   "cell_type": "code",
   "execution_count": 16,
   "metadata": {
    "collapsed": false
   },
   "outputs": [
    {
     "name": "stdout",
     "output_type": "stream",
     "text": [
      "The Girl with the Dragon Tattoo\n",
      "Les Miserables\n",
      "True Grit\n",
      "Dracula\n"
     ]
    }
   ],
   "source": [
    "# option 2\n",
    "from collections import Counter\n",
    "for title, count in Counter(movies['title']).items():\n",
    "    if count > 1:\n",
    "        print title"
   ]
  },
  {
   "cell_type": "code",
   "execution_count": 17,
   "metadata": {
    "collapsed": true
   },
   "outputs": [],
   "source": [
    "# use requests library to interact with a URL http://www.omdbapi.com\n",
    "r = requests.get('http://www.omdbapi.com?t=the shawshank redemption&r=json&type=movie')"
   ]
  },
  {
   "cell_type": "code",
   "execution_count": 18,
   "metadata": {
    "collapsed": false
   },
   "outputs": [
    {
     "data": {
      "text/plain": [
       "200"
      ]
     },
     "execution_count": 18,
     "metadata": {},
     "output_type": "execute_result"
    }
   ],
   "source": [
    "# check the status: 200 means success, 4xx or 5xx means error\n",
    "r.status_code"
   ]
  },
  {
   "cell_type": "code",
   "execution_count": 19,
   "metadata": {
    "collapsed": false
   },
   "outputs": [
    {
     "data": {
      "text/plain": [
       "u'{\"Title\":\"The Shawshank Redemption\",\"Year\":\"1994\",\"Rated\":\"R\",\"Released\":\"14 Oct 1994\",\"Runtime\":\"142 min\",\"Genre\":\"Crime, Drama\",\"Director\":\"Frank Darabont\",\"Writer\":\"Stephen King (short story \\\\\"Rita Hayworth and Shawshank Redemption\\\\\"), Frank Darabont (screenplay)\",\"Actors\":\"Tim Robbins, Morgan Freeman, Bob Gunton, William Sadler\",\"Plot\":\"Two imprisoned men bond over a number of years, finding solace and eventual redemption through acts of common decency.\",\"Language\":\"English\",\"Country\":\"USA\",\"Awards\":\"Nominated for 7 Oscars. Another 18 wins & 30 nominations.\",\"Poster\":\"https://images-na.ssl-images-amazon.com/images/M/MV5BODU4MjU4NjIwNl5BMl5BanBnXkFtZTgwMDU2MjEyMDE@._V1_SX300.jpg\",\"Metascore\":\"80\",\"imdbRating\":\"9.3\",\"imdbVotes\":\"1,711,064\",\"imdbID\":\"tt0111161\",\"Type\":\"movie\",\"Response\":\"True\"}'"
      ]
     },
     "execution_count": 19,
     "metadata": {},
     "output_type": "execute_result"
    }
   ],
   "source": [
    "# view the raw response text\n",
    "r.text"
   ]
  },
  {
   "cell_type": "code",
   "execution_count": 20,
   "metadata": {
    "collapsed": false
   },
   "outputs": [
    {
     "data": {
      "text/plain": [
       "{u'Actors': u'Tim Robbins, Morgan Freeman, Bob Gunton, William Sadler',\n",
       " u'Awards': u'Nominated for 7 Oscars. Another 18 wins & 30 nominations.',\n",
       " u'Country': u'USA',\n",
       " u'Director': u'Frank Darabont',\n",
       " u'Genre': u'Crime, Drama',\n",
       " u'Language': u'English',\n",
       " u'Metascore': u'80',\n",
       " u'Plot': u'Two imprisoned men bond over a number of years, finding solace and eventual redemption through acts of common decency.',\n",
       " u'Poster': u'https://images-na.ssl-images-amazon.com/images/M/MV5BODU4MjU4NjIwNl5BMl5BanBnXkFtZTgwMDU2MjEyMDE@._V1_SX300.jpg',\n",
       " u'Rated': u'R',\n",
       " u'Released': u'14 Oct 1994',\n",
       " u'Response': u'True',\n",
       " u'Runtime': u'142 min',\n",
       " u'Title': u'The Shawshank Redemption',\n",
       " u'Type': u'movie',\n",
       " u'Writer': u'Stephen King (short story \"Rita Hayworth and Shawshank Redemption\"), Frank Darabont (screenplay)',\n",
       " u'Year': u'1994',\n",
       " u'imdbID': u'tt0111161',\n",
       " u'imdbRating': u'9.3',\n",
       " u'imdbVotes': u'1,711,064'}"
      ]
     },
     "execution_count": 20,
     "metadata": {},
     "output_type": "execute_result"
    }
   ],
   "source": [
    "# decode the JSON response body into a dictionary\n",
    "r.json()"
   ]
  },
  {
   "cell_type": "code",
   "execution_count": 21,
   "metadata": {
    "collapsed": false
   },
   "outputs": [
    {
     "data": {
      "text/plain": [
       "u'1994'"
      ]
     },
     "execution_count": 21,
     "metadata": {},
     "output_type": "execute_result"
    }
   ],
   "source": [
    "# extracting the year from the dictionary\n",
    "r.json()['Year']"
   ]
  },
  {
   "cell_type": "code",
   "execution_count": 22,
   "metadata": {
    "collapsed": false
   },
   "outputs": [
    {
     "name": "stdout",
     "output_type": "stream",
     "text": [
      "200\n"
     ]
    },
    {
     "data": {
      "text/plain": [
       "{u'Error': u'Movie not found!', u'Response': u'False'}"
      ]
     },
     "execution_count": 22,
     "metadata": {},
     "output_type": "execute_result"
    }
   ],
   "source": [
    "# what happens if the movie name is not recognized?\n",
    "r = requests.get('http://www.omdbapi.com/?t=thebestmovieevermade&r=json&type=movie')\n",
    "print r.status_code\n",
    "r.json()"
   ]
  },
  {
   "cell_type": "code",
   "execution_count": 23,
   "metadata": {
    "collapsed": false
   },
   "outputs": [
    {
     "name": "stdout",
     "output_type": "stream",
     "text": [
      "200\n"
     ]
    },
    {
     "data": {
      "text/plain": [
       "{u'Actors': u\"Ellen DeGeneres, Albert Brooks, Ed O'Neill, Kaitlin Olson\",\n",
       " u'Awards': u'2 wins.',\n",
       " u'Country': u'USA',\n",
       " u'Director': u'Andrew Stanton, Angus MacLane',\n",
       " u'Genre': u'Animation, Adventure, Comedy',\n",
       " u'Language': u'English, Indonesian',\n",
       " u'Metascore': u'77',\n",
       " u'Plot': u'The friendly but forgetful blue tang fish begins a search for her long-lost parents, and everyone learns a few things about the real meaning of family along the way.',\n",
       " u'Poster': u'https://images-na.ssl-images-amazon.com/images/M/MV5BNzg4MjM2NDQ4MV5BMl5BanBnXkFtZTgwMzk3MTgyODE@._V1_SX300.jpg',\n",
       " u'Rated': u'PG',\n",
       " u'Released': u'17 Jun 2016',\n",
       " u'Response': u'True',\n",
       " u'Runtime': u'97 min',\n",
       " u'Title': u'Finding Dory',\n",
       " u'Type': u'movie',\n",
       " u'Writer': u'Andrew Stanton (original story by), Andrew Stanton (screenplay), Victoria Strouse (screenplay), Bob Peterson (additional screenplay material by), Angus MacLane (additional story material by)',\n",
       " u'Year': u'2016',\n",
       " u'imdbID': u'tt2277860',\n",
       " u'imdbRating': u'7.7',\n",
       " u'imdbVotes': u'70,541'}"
      ]
     },
     "execution_count": 23,
     "metadata": {},
     "output_type": "execute_result"
    }
   ],
   "source": [
    "# another example\n",
    "movie_title = 'finding dory'\n",
    "r = requests.get('http://www.omdbapi.com/?t='+movie_title+'&r=json&type=movie')\n",
    "print r.status_code\n",
    "r.json()"
   ]
  },
  {
   "cell_type": "code",
   "execution_count": 28,
   "metadata": {
    "collapsed": false
   },
   "outputs": [],
   "source": [
    "##### Exercise #####\n",
    "\n",
    "# define a function to return the year of release of a given movie title, return None if no movie found\n",
    "def get_movie_year(title):\n",
    "    return -1\n",
    "\n",
    "\n",
    "\n",
    "\n",
    "\n",
    "\n",
    "\n"
   ]
  },
  {
   "cell_type": "code",
   "execution_count": 29,
   "metadata": {
    "collapsed": true
   },
   "outputs": [],
   "source": [
    "# ANSWER\n",
    "def get_movie_year(title):\n",
    "    response = requests.get('http://www.omdbapi.com/?t='+title+'&r=json&type=movie').json()\n",
    "    if 'Error' not in response: return response['Year'] # if successful, return year movie was made\n"
   ]
  },
  {
   "cell_type": "code",
   "execution_count": 30,
   "metadata": {
    "collapsed": false
   },
   "outputs": [
    {
     "name": "stdout",
     "output_type": "stream",
     "text": [
      "2016\n",
      "None\n"
     ]
    }
   ],
   "source": [
    "# test the function\n",
    "print get_movie_year('finding dory')\n",
    "print get_movie_year('blahblahblah')"
   ]
  },
  {
   "cell_type": "code",
   "execution_count": 31,
   "metadata": {
    "collapsed": true
   },
   "outputs": [],
   "source": [
    "# create a smaller DataFrame for testing\n",
    "# the copy method makes a carbon copy of the dataframe\n",
    "top_movies = movies.head().copy()"
   ]
  },
  {
   "cell_type": "code",
   "execution_count": 38,
   "metadata": {
    "collapsed": false
   },
   "outputs": [],
   "source": [
    "# write a for loop to build a list of years\n",
    "from time import sleep # timey wimey stuff\n",
    "years = []\n",
    "for title in top_movies.title:\n",
    "    years.append(get_movie_year(title))\n",
    "    sleep(1)\n",
    "    \n",
    "# the sleep is used to not over hit the API\n",
    "# this is called \"rate limiting\"\n",
    "# Most APIs don't allow you to hit it too much"
   ]
  },
  {
   "cell_type": "code",
   "execution_count": 39,
   "metadata": {
    "collapsed": false
   },
   "outputs": [
    {
     "data": {
      "text/plain": [
       "[u'1994', u'1972', u'1974', u'2008', u'1994']"
      ]
     },
     "execution_count": 39,
     "metadata": {},
     "output_type": "execute_result"
    }
   ],
   "source": [
    "years"
   ]
  },
  {
   "cell_type": "code",
   "execution_count": 40,
   "metadata": {
    "collapsed": false
   },
   "outputs": [
    {
     "ename": "AssertionError",
     "evalue": "",
     "output_type": "error",
     "traceback": [
      "\u001b[0;31m---------------------------------------------------------------------------\u001b[0m",
      "\u001b[0;31mAssertionError\u001b[0m                            Traceback (most recent call last)",
      "\u001b[0;32m<ipython-input-40-eda2d9072f25>\u001b[0m in \u001b[0;36m<module>\u001b[0;34m()\u001b[0m\n\u001b[1;32m      1\u001b[0m \u001b[0;31m# assert will throw an error if the value inside is NOT True\u001b[0m\u001b[0;34m\u001b[0m\u001b[0;34m\u001b[0m\u001b[0m\n\u001b[1;32m      2\u001b[0m \u001b[0;34m\u001b[0m\u001b[0m\n\u001b[0;32m----> 3\u001b[0;31m \u001b[0;32massert\u001b[0m\u001b[0;34m(\u001b[0m\u001b[0;36m3\u001b[0m\u001b[0;34m==\u001b[0m\u001b[0;36m4\u001b[0m\u001b[0;34m)\u001b[0m\u001b[0;34m\u001b[0m\u001b[0m\n\u001b[0m",
      "\u001b[0;31mAssertionError\u001b[0m: "
     ]
    }
   ],
   "source": [
    "# assert will throw an error if the value inside is NOT True\n",
    "\n",
    "assert(3==4)"
   ]
  },
  {
   "cell_type": "code",
   "execution_count": 41,
   "metadata": {
    "collapsed": false
   },
   "outputs": [],
   "source": [
    "# check that the DataFrame and the list of years are the same length\n",
    "assert(len(top_movies) == len(years))"
   ]
  },
  {
   "cell_type": "code",
   "execution_count": 42,
   "metadata": {
    "collapsed": false
   },
   "outputs": [
    {
     "data": {
      "text/html": [
       "<div>\n",
       "<table border=\"1\" class=\"dataframe\">\n",
       "  <thead>\n",
       "    <tr style=\"text-align: right;\">\n",
       "      <th></th>\n",
       "      <th>star_rating</th>\n",
       "      <th>title</th>\n",
       "      <th>content_rating</th>\n",
       "      <th>genre</th>\n",
       "      <th>duration</th>\n",
       "      <th>actors_list</th>\n",
       "      <th>year</th>\n",
       "    </tr>\n",
       "  </thead>\n",
       "  <tbody>\n",
       "    <tr>\n",
       "      <th>0</th>\n",
       "      <td>9.3</td>\n",
       "      <td>The Shawshank Redemption</td>\n",
       "      <td>R</td>\n",
       "      <td>Crime</td>\n",
       "      <td>142</td>\n",
       "      <td>[u'Tim Robbins', u'Morgan Freeman', u'Bob Gunt...</td>\n",
       "      <td>1994</td>\n",
       "    </tr>\n",
       "    <tr>\n",
       "      <th>1</th>\n",
       "      <td>9.2</td>\n",
       "      <td>The Godfather</td>\n",
       "      <td>R</td>\n",
       "      <td>Crime</td>\n",
       "      <td>175</td>\n",
       "      <td>[u'Marlon Brando', u'Al Pacino', u'James Caan']</td>\n",
       "      <td>1972</td>\n",
       "    </tr>\n",
       "    <tr>\n",
       "      <th>2</th>\n",
       "      <td>9.1</td>\n",
       "      <td>The Godfather: Part II</td>\n",
       "      <td>R</td>\n",
       "      <td>Crime</td>\n",
       "      <td>200</td>\n",
       "      <td>[u'Al Pacino', u'Robert De Niro', u'Robert Duv...</td>\n",
       "      <td>1974</td>\n",
       "    </tr>\n",
       "    <tr>\n",
       "      <th>3</th>\n",
       "      <td>9.0</td>\n",
       "      <td>The Dark Knight</td>\n",
       "      <td>PG-13</td>\n",
       "      <td>Action</td>\n",
       "      <td>152</td>\n",
       "      <td>[u'Christian Bale', u'Heath Ledger', u'Aaron E...</td>\n",
       "      <td>2008</td>\n",
       "    </tr>\n",
       "    <tr>\n",
       "      <th>4</th>\n",
       "      <td>8.9</td>\n",
       "      <td>Pulp Fiction</td>\n",
       "      <td>R</td>\n",
       "      <td>Crime</td>\n",
       "      <td>154</td>\n",
       "      <td>[u'John Travolta', u'Uma Thurman', u'Samuel L....</td>\n",
       "      <td>1994</td>\n",
       "    </tr>\n",
       "  </tbody>\n",
       "</table>\n",
       "</div>"
      ],
      "text/plain": [
       "   star_rating                     title content_rating   genre  duration  \\\n",
       "0          9.3  The Shawshank Redemption              R   Crime       142   \n",
       "1          9.2             The Godfather              R   Crime       175   \n",
       "2          9.1    The Godfather: Part II              R   Crime       200   \n",
       "3          9.0           The Dark Knight          PG-13  Action       152   \n",
       "4          8.9              Pulp Fiction              R   Crime       154   \n",
       "\n",
       "                                         actors_list  year  \n",
       "0  [u'Tim Robbins', u'Morgan Freeman', u'Bob Gunt...  1994  \n",
       "1    [u'Marlon Brando', u'Al Pacino', u'James Caan']  1972  \n",
       "2  [u'Al Pacino', u'Robert De Niro', u'Robert Duv...  1974  \n",
       "3  [u'Christian Bale', u'Heath Ledger', u'Aaron E...  2008  \n",
       "4  [u'John Travolta', u'Uma Thurman', u'Samuel L....  1994  "
      ]
     },
     "execution_count": 42,
     "metadata": {},
     "output_type": "execute_result"
    }
   ],
   "source": [
    "# save that list as a new column\n",
    "top_movies['year'] = years\n",
    "top_movies"
   ]
  },
  {
   "cell_type": "code",
   "execution_count": 22,
   "metadata": {
    "collapsed": false
   },
   "outputs": [
    {
     "name": "stdout",
     "output_type": "stream",
     "text": [
      "0 a\n",
      "1 b\n",
      "2 c\n"
     ]
    }
   ],
   "source": [
    "'''\n",
    "Bonus content: Updating the DataFrame as part of a loop\n",
    "'''\n",
    "\n",
    "# enumerate allows you to access the item location while iterating\n",
    "letters = ['a', 'b', 'c']\n",
    "for index, letter in enumerate(letters):\n",
    "    print index, letter"
   ]
  },
  {
   "cell_type": "code",
   "execution_count": 23,
   "metadata": {
    "collapsed": false
   },
   "outputs": [
    {
     "name": "stdout",
     "output_type": "stream",
     "text": [
      "0 The Shawshank Redemption\n",
      "1 The Godfather\n",
      "2 The Godfather: Part II\n",
      "3 The Dark Knight\n",
      "4 Pulp Fiction\n"
     ]
    }
   ],
   "source": [
    "# iterrows method for DataFrames is similar\n",
    "for index, row in top_movies.iterrows():\n",
    "    print index, row.title"
   ]
  },
  {
   "cell_type": "code",
   "execution_count": 26,
   "metadata": {
    "collapsed": false
   },
   "outputs": [
    {
     "ename": "SyntaxError",
     "evalue": "invalid syntax (<ipython-input-26-1c8019b28424>, line 3)",
     "output_type": "error",
     "traceback": [
      "\u001b[0;36m  File \u001b[0;32m\"<ipython-input-26-1c8019b28424>\"\u001b[0;36m, line \u001b[0;32m3\u001b[0m\n\u001b[0;31m    )movies['year'] = None\u001b[0m\n\u001b[0m          ^\u001b[0m\n\u001b[0;31mSyntaxError\u001b[0m\u001b[0;31m:\u001b[0m invalid syntax\n"
     ]
    }
   ],
   "source": [
    "# create a new column and set a default value\n",
    "movies = movies.drop('yearsr', axis=1\n",
    "                    )movies['year'] = None\n",
    "movies.head()"
   ]
  },
  {
   "cell_type": "code",
   "execution_count": null,
   "metadata": {
    "collapsed": false
   },
   "outputs": [],
   "source": [
    "# loc method allows you to access a DataFrame element by 'label'\n",
    "movies.loc[0, 'year'] = 1994\n",
    "movies.head()"
   ]
  },
  {
   "cell_type": "code",
   "execution_count": null,
   "metadata": {
    "collapsed": false
   },
   "outputs": [],
   "source": [
    "# write a for loop to update the year for the first three movies\n",
    "for index, row in movies.iterrows():\n",
    "    if index < 3:\n",
    "        movies.loc[index, 'year'] = get_movie_year(row.title)\n",
    "        sleep(1)\n",
    "    else:\n",
    "        break"
   ]
  },
  {
   "cell_type": "code",
   "execution_count": 30,
   "metadata": {
    "collapsed": false
   },
   "outputs": [
    {
     "data": {
      "text/html": [
       "<div style=\"max-height:1000px;max-width:1500px;overflow:auto;\">\n",
       "<table border=\"1\" class=\"dataframe\">\n",
       "  <thead>\n",
       "    <tr style=\"text-align: right;\">\n",
       "      <th></th>\n",
       "      <th>star_rating</th>\n",
       "      <th>title</th>\n",
       "      <th>content_rating</th>\n",
       "      <th>genre</th>\n",
       "      <th>duration</th>\n",
       "      <th>actors_list</th>\n",
       "    </tr>\n",
       "  </thead>\n",
       "  <tbody>\n",
       "    <tr>\n",
       "      <th>0</th>\n",
       "      <td> 9.3</td>\n",
       "      <td> The Shawshank Redemption</td>\n",
       "      <td>     R</td>\n",
       "      <td>  Crime</td>\n",
       "      <td> 142</td>\n",
       "      <td> [u'Tim Robbins', u'Morgan Freeman', u'Bob Gunt...</td>\n",
       "    </tr>\n",
       "    <tr>\n",
       "      <th>1</th>\n",
       "      <td> 9.2</td>\n",
       "      <td>            The Godfather</td>\n",
       "      <td>     R</td>\n",
       "      <td>  Crime</td>\n",
       "      <td> 175</td>\n",
       "      <td>   [u'Marlon Brando', u'Al Pacino', u'James Caan']</td>\n",
       "    </tr>\n",
       "    <tr>\n",
       "      <th>2</th>\n",
       "      <td> 9.1</td>\n",
       "      <td>   The Godfather: Part II</td>\n",
       "      <td>     R</td>\n",
       "      <td>  Crime</td>\n",
       "      <td> 200</td>\n",
       "      <td> [u'Al Pacino', u'Robert De Niro', u'Robert Duv...</td>\n",
       "    </tr>\n",
       "    <tr>\n",
       "      <th>3</th>\n",
       "      <td> 9.0</td>\n",
       "      <td>          The Dark Knight</td>\n",
       "      <td> PG-13</td>\n",
       "      <td> Action</td>\n",
       "      <td> 152</td>\n",
       "      <td> [u'Christian Bale', u'Heath Ledger', u'Aaron E...</td>\n",
       "    </tr>\n",
       "    <tr>\n",
       "      <th>4</th>\n",
       "      <td> 8.9</td>\n",
       "      <td>             Pulp Fiction</td>\n",
       "      <td>     R</td>\n",
       "      <td>  Crime</td>\n",
       "      <td> 154</td>\n",
       "      <td> [u'John Travolta', u'Uma Thurman', u'Samuel L....</td>\n",
       "    </tr>\n",
       "  </tbody>\n",
       "</table>\n",
       "</div>"
      ],
      "text/plain": [
       "   star_rating                     title content_rating   genre  duration  \\\n",
       "0          9.3  The Shawshank Redemption              R   Crime       142   \n",
       "1          9.2             The Godfather              R   Crime       175   \n",
       "2          9.1    The Godfather: Part II              R   Crime       200   \n",
       "3          9.0           The Dark Knight          PG-13  Action       152   \n",
       "4          8.9              Pulp Fiction              R   Crime       154   \n",
       "\n",
       "                                         actors_list  \n",
       "0  [u'Tim Robbins', u'Morgan Freeman', u'Bob Gunt...  \n",
       "1    [u'Marlon Brando', u'Al Pacino', u'James Caan']  \n",
       "2  [u'Al Pacino', u'Robert De Niro', u'Robert Duv...  \n",
       "3  [u'Christian Bale', u'Heath Ledger', u'Aaron E...  \n",
       "4  [u'John Travolta', u'Uma Thurman', u'Samuel L....  "
      ]
     },
     "execution_count": 30,
     "metadata": {},
     "output_type": "execute_result"
    }
   ],
   "source": [
    "movies.head()"
   ]
  },
  {
   "cell_type": "code",
   "execution_count": null,
   "metadata": {
    "collapsed": false
   },
   "outputs": [],
   "source": []
  },
  {
   "cell_type": "code",
   "execution_count": null,
   "metadata": {
    "collapsed": true
   },
   "outputs": [],
   "source": []
  },
  {
   "cell_type": "code",
   "execution_count": 43,
   "metadata": {
    "collapsed": true
   },
   "outputs": [],
   "source": [
    "# this is my own personal twitter api information\n",
    "# if you could be so kind as to sign up yourself on both twitter and mashape that'd be great :)\n",
    "# It's FREEEEEEE\n",
    "api_key = 'g5uPIpw80nULQI1gfklv2zrh4'\n",
    "api_secret = 'cOWvNWxYvPmEZ0ArZVeeVVvJu41QYHdUS2GpqIKtSQ1isd5PJy'\n",
    "access_token = '49722956-TWl8J0aAS6KTdcbz3ppZ7NfqZEmrwmbsb9cYPNELG'\n",
    "access_secret = '3eqrVssF3ppv23qyflyAto8wLEiYRA8sXEPSghuOJWTub'\n",
    "\n",
    "# Masahpe Key\n",
    "mashape_key = '0CLvblsJOxmshWkaep4szo9CILOMp1PM3hhjsnDi4k8g8ME14o'"
   ]
  },
  {
   "cell_type": "code",
   "execution_count": 50,
   "metadata": {
    "collapsed": false
   },
   "outputs": [
    {
     "name": "stdout",
     "output_type": "stream",
     "text": [
      "{u'probability': {u'neg': 0.3628542197229716, u'neutral': 0.08767011070996382, u'pos': 0.6371457802770284}, u'label': u'pos'}\n"
     ]
    }
   ],
   "source": [
    "# more complicated request\n",
    "\n",
    "# HEADERS tell the API (or website) the type of system attempting the request\n",
    "# DATA tells the API (or website) any pertinent info needed to make the request\n",
    "# it is up to whoever wrote the API how access keys are passed in\n",
    "\n",
    "url = \"https://japerk-text-processing.p.mashape.com/sentiment/\"\n",
    "headers ={\n",
    "        \"X-Mashape-Key\": mashape_key,\n",
    "        \"Content-Type\": \"application/x-www-form-urlencoded\"\n",
    "        }\n",
    "data={\n",
    "        \"language\": \"english\",\n",
    "        \"text\": \"enter happy text here\"\n",
    "        }\n",
    "\n",
    "print requests.post(url, headers = headers, data = data).json()"
   ]
  },
  {
   "cell_type": "code",
   "execution_count": 51,
   "metadata": {
    "collapsed": false
   },
   "outputs": [
    {
     "data": {
      "text/plain": [
       "'\\nExample of API WITH WRAPPER\\ntweepy is the python wrapper for twitter data\\n'"
      ]
     },
     "execution_count": 51,
     "metadata": {},
     "output_type": "execute_result"
    }
   ],
   "source": [
    "'''\n",
    "Example of API WITH WRAPPER\n",
    "tweepy is the python wrapper for twitter data\n",
    "'''"
   ]
  },
  {
   "cell_type": "code",
   "execution_count": 52,
   "metadata": {
    "collapsed": false
   },
   "outputs": [],
   "source": [
    "import tweepy       # python wrapper for twitter api\n",
    "import json\n",
    "import time"
   ]
  },
  {
   "cell_type": "code",
   "execution_count": 60,
   "metadata": {
    "collapsed": false
   },
   "outputs": [],
   "source": [
    "tag = 'donald trump'\n",
    "\n",
    "# Documentation is your friend! http://docs.tweepy.org/en/v3.1.0/\n",
    "auth = tweepy.OAuthHandler(api_key, api_secret)\n",
    "auth.set_access_token(access_token, access_secret)\n",
    "api = tweepy.API(auth) # returns a tweepy authorization handler object\n",
    "tweets = api.search(q=tag)"
   ]
  },
  {
   "cell_type": "code",
   "execution_count": 61,
   "metadata": {
    "collapsed": false
   },
   "outputs": [
    {
     "data": {
      "text/plain": [
       "Status(contributors=None, truncated=False, text=u'@bipolrbear @billyeichner I would want to see a Bill Clinton and Donald Trump all coked up #Debate https://t.co/dRxVH5fg8A', is_quote_status=False, in_reply_to_status_id=786054122688483328, id=786055330312687616, favorite_count=0, _api=<tweepy.api.API object at 0x111cb1d50>, author=User(follow_request_sent=False, has_extended_profile=False, profile_use_background_image=True, _json={u'follow_request_sent': False, u'has_extended_profile': False, u'profile_use_background_image': True, u'default_profile_image': False, u'id': 248067666, u'profile_background_image_url_https': u'https://abs.twimg.com/images/themes/theme1/bg.png', u'verified': False, u'profile_text_color': u'333333', u'profile_image_url_https': u'https://pbs.twimg.com/profile_images/503583845397307392/FKP4u20Q_normal.jpeg', u'profile_sidebar_fill_color': u'DDEEF6', u'entities': {u'description': {u'urls': []}}, u'followers_count': 7589, u'profile_sidebar_border_color': u'FFFFFF', u'id_str': u'248067666', u'profile_background_color': u'C0DEED', u'listed_count': 147, u'is_translation_enabled': False, u'utc_offset': -18000, u'statuses_count': 73741, u'description': u'Where there is injustice, there is Resistance!!! #OccupationKills #BDS #BlackLivesMatter #PalestinianLivesMatter', u'friends_count': 6834, u'location': u'', u'profile_link_color': u'0084B4', u'profile_image_url': u'http://pbs.twimg.com/profile_images/503583845397307392/FKP4u20Q_normal.jpeg', u'following': False, u'geo_enabled': False, u'profile_banner_url': u'https://pbs.twimg.com/profile_banners/248067666/1470530019', u'profile_background_image_url': u'http://abs.twimg.com/images/themes/theme1/bg.png', u'screen_name': u'MEastQuagmire', u'lang': u'en', u'profile_background_tile': False, u'favourites_count': 1269, u'name': u'MEastQuagmire', u'notifications': False, u'url': None, u'created_at': u'Sun Feb 06 05:20:35 +0000 2011', u'contributors_enabled': False, u'time_zone': u'Central Time (US & Canada)', u'protected': False, u'default_profile': False, u'is_translator': False}, time_zone=u'Central Time (US & Canada)', id=248067666, _api=<tweepy.api.API object at 0x111cb1d50>, verified=False, profile_text_color=u'333333', profile_image_url_https=u'https://pbs.twimg.com/profile_images/503583845397307392/FKP4u20Q_normal.jpeg', profile_sidebar_fill_color=u'DDEEF6', is_translator=False, geo_enabled=False, entities={u'description': {u'urls': []}}, followers_count=7589, protected=False, id_str=u'248067666', default_profile_image=False, listed_count=147, lang=u'en', utc_offset=-18000, statuses_count=73741, description=u'Where there is injustice, there is Resistance!!! #OccupationKills #BDS #BlackLivesMatter #PalestinianLivesMatter', friends_count=6834, profile_link_color=u'0084B4', profile_image_url=u'http://pbs.twimg.com/profile_images/503583845397307392/FKP4u20Q_normal.jpeg', notifications=False, profile_background_image_url_https=u'https://abs.twimg.com/images/themes/theme1/bg.png', profile_background_color=u'C0DEED', profile_banner_url=u'https://pbs.twimg.com/profile_banners/248067666/1470530019', profile_background_image_url=u'http://abs.twimg.com/images/themes/theme1/bg.png', name=u'MEastQuagmire', is_translation_enabled=False, profile_background_tile=False, favourites_count=1269, screen_name=u'MEastQuagmire', url=None, created_at=datetime.datetime(2011, 2, 6, 5, 20, 35), contributors_enabled=False, location=u'', profile_sidebar_border_color=u'FFFFFF', default_profile=False, following=False), _json={u'contributors': None, u'truncated': False, u'text': u'@bipolrbear @billyeichner I would want to see a Bill Clinton and Donald Trump all coked up #Debate https://t.co/dRxVH5fg8A', u'is_quote_status': False, u'in_reply_to_status_id': 786054122688483328, u'id': 786055330312687616, u'favorite_count': 0, u'entities': {u'symbols': [], u'user_mentions': [{u'id': 47814500, u'indices': [0, 11], u'id_str': u'47814500', u'screen_name': u'bipolrbear', u'name': u'the bipolar bear'}, {u'id': 74669397, u'indices': [12, 25], u'id_str': u'74669397', u'screen_name': u'billyeichner', u'name': u'billy eichner'}], u'hashtags': [{u'indices': [91, 98], u'text': u'Debate'}], u'urls': [], u'media': [{u'expanded_url': u'https://twitter.com/MEastQuagmire/status/786055330312687616/photo/1', u'display_url': u'pic.twitter.com/dRxVH5fg8A', u'url': u'https://t.co/dRxVH5fg8A', u'media_url_https': u'https://pbs.twimg.com/media/CuihJ9OWYAEyEbO.jpg', u'id_str': u'786055327401795585', u'sizes': {u'large': {u'h': 292, u'resize': u'fit', u'w': 560}, u'small': {u'h': 292, u'resize': u'fit', u'w': 560}, u'medium': {u'h': 292, u'resize': u'fit', u'w': 560}, u'thumb': {u'h': 150, u'resize': u'crop', u'w': 150}}, u'indices': [99, 122], u'type': u'photo', u'id': 786055327401795585, u'media_url': u'http://pbs.twimg.com/media/CuihJ9OWYAEyEbO.jpg'}]}, u'retweeted': False, u'coordinates': None, u'source': u'<a href=\"http://twitter.com/download/android\" rel=\"nofollow\">Twitter for Android</a>', u'in_reply_to_screen_name': u'bipolrbear', u'in_reply_to_user_id': 47814500, u'retweet_count': 0, u'id_str': u'786055330312687616', u'favorited': False, u'user': {u'follow_request_sent': False, u'has_extended_profile': False, u'profile_use_background_image': True, u'default_profile_image': False, u'id': 248067666, u'profile_background_image_url_https': u'https://abs.twimg.com/images/themes/theme1/bg.png', u'verified': False, u'profile_text_color': u'333333', u'profile_image_url_https': u'https://pbs.twimg.com/profile_images/503583845397307392/FKP4u20Q_normal.jpeg', u'profile_sidebar_fill_color': u'DDEEF6', u'entities': {u'description': {u'urls': []}}, u'followers_count': 7589, u'profile_sidebar_border_color': u'FFFFFF', u'id_str': u'248067666', u'profile_background_color': u'C0DEED', u'listed_count': 147, u'is_translation_enabled': False, u'utc_offset': -18000, u'statuses_count': 73741, u'description': u'Where there is injustice, there is Resistance!!! #OccupationKills #BDS #BlackLivesMatter #PalestinianLivesMatter', u'friends_count': 6834, u'location': u'', u'profile_link_color': u'0084B4', u'profile_image_url': u'http://pbs.twimg.com/profile_images/503583845397307392/FKP4u20Q_normal.jpeg', u'following': False, u'geo_enabled': False, u'profile_banner_url': u'https://pbs.twimg.com/profile_banners/248067666/1470530019', u'profile_background_image_url': u'http://abs.twimg.com/images/themes/theme1/bg.png', u'screen_name': u'MEastQuagmire', u'lang': u'en', u'profile_background_tile': False, u'favourites_count': 1269, u'name': u'MEastQuagmire', u'notifications': False, u'url': None, u'created_at': u'Sun Feb 06 05:20:35 +0000 2011', u'contributors_enabled': False, u'time_zone': u'Central Time (US & Canada)', u'protected': False, u'default_profile': False, u'is_translator': False}, u'geo': None, u'in_reply_to_user_id_str': u'47814500', u'possibly_sensitive': False, u'lang': u'en', u'created_at': u'Wed Oct 12 04:06:09 +0000 2016', u'in_reply_to_status_id_str': u'786054122688483328', u'place': None, u'extended_entities': {u'media': [{u'expanded_url': u'https://twitter.com/MEastQuagmire/status/786055330312687616/photo/1', u'display_url': u'pic.twitter.com/dRxVH5fg8A', u'url': u'https://t.co/dRxVH5fg8A', u'media_url_https': u'https://pbs.twimg.com/media/CuihJ9OWYAEyEbO.jpg', u'id_str': u'786055327401795585', u'sizes': {u'large': {u'h': 292, u'resize': u'fit', u'w': 560}, u'small': {u'h': 292, u'resize': u'fit', u'w': 560}, u'medium': {u'h': 292, u'resize': u'fit', u'w': 560}, u'thumb': {u'h': 150, u'resize': u'crop', u'w': 150}}, u'indices': [99, 122], u'type': u'photo', u'id': 786055327401795585, u'media_url': u'http://pbs.twimg.com/media/CuihJ9OWYAEyEbO.jpg'}]}, u'metadata': {u'iso_language_code': u'en', u'result_type': u'recent'}}, coordinates=None, entities={u'symbols': [], u'user_mentions': [{u'id': 47814500, u'indices': [0, 11], u'id_str': u'47814500', u'screen_name': u'bipolrbear', u'name': u'the bipolar bear'}, {u'id': 74669397, u'indices': [12, 25], u'id_str': u'74669397', u'screen_name': u'billyeichner', u'name': u'billy eichner'}], u'hashtags': [{u'indices': [91, 98], u'text': u'Debate'}], u'urls': [], u'media': [{u'expanded_url': u'https://twitter.com/MEastQuagmire/status/786055330312687616/photo/1', u'display_url': u'pic.twitter.com/dRxVH5fg8A', u'url': u'https://t.co/dRxVH5fg8A', u'media_url_https': u'https://pbs.twimg.com/media/CuihJ9OWYAEyEbO.jpg', u'id_str': u'786055327401795585', u'sizes': {u'large': {u'h': 292, u'resize': u'fit', u'w': 560}, u'small': {u'h': 292, u'resize': u'fit', u'w': 560}, u'medium': {u'h': 292, u'resize': u'fit', u'w': 560}, u'thumb': {u'h': 150, u'resize': u'crop', u'w': 150}}, u'indices': [99, 122], u'type': u'photo', u'id': 786055327401795585, u'media_url': u'http://pbs.twimg.com/media/CuihJ9OWYAEyEbO.jpg'}]}, in_reply_to_screen_name=u'bipolrbear', id_str=u'786055330312687616', retweet_count=0, in_reply_to_user_id=47814500, favorited=False, source_url=u'http://twitter.com/download/android', user=User(follow_request_sent=False, has_extended_profile=False, profile_use_background_image=True, _json={u'follow_request_sent': False, u'has_extended_profile': False, u'profile_use_background_image': True, u'default_profile_image': False, u'id': 248067666, u'profile_background_image_url_https': u'https://abs.twimg.com/images/themes/theme1/bg.png', u'verified': False, u'profile_text_color': u'333333', u'profile_image_url_https': u'https://pbs.twimg.com/profile_images/503583845397307392/FKP4u20Q_normal.jpeg', u'profile_sidebar_fill_color': u'DDEEF6', u'entities': {u'description': {u'urls': []}}, u'followers_count': 7589, u'profile_sidebar_border_color': u'FFFFFF', u'id_str': u'248067666', u'profile_background_color': u'C0DEED', u'listed_count': 147, u'is_translation_enabled': False, u'utc_offset': -18000, u'statuses_count': 73741, u'description': u'Where there is injustice, there is Resistance!!! #OccupationKills #BDS #BlackLivesMatter #PalestinianLivesMatter', u'friends_count': 6834, u'location': u'', u'profile_link_color': u'0084B4', u'profile_image_url': u'http://pbs.twimg.com/profile_images/503583845397307392/FKP4u20Q_normal.jpeg', u'following': False, u'geo_enabled': False, u'profile_banner_url': u'https://pbs.twimg.com/profile_banners/248067666/1470530019', u'profile_background_image_url': u'http://abs.twimg.com/images/themes/theme1/bg.png', u'screen_name': u'MEastQuagmire', u'lang': u'en', u'profile_background_tile': False, u'favourites_count': 1269, u'name': u'MEastQuagmire', u'notifications': False, u'url': None, u'created_at': u'Sun Feb 06 05:20:35 +0000 2011', u'contributors_enabled': False, u'time_zone': u'Central Time (US & Canada)', u'protected': False, u'default_profile': False, u'is_translator': False}, time_zone=u'Central Time (US & Canada)', id=248067666, _api=<tweepy.api.API object at 0x111cb1d50>, verified=False, profile_text_color=u'333333', profile_image_url_https=u'https://pbs.twimg.com/profile_images/503583845397307392/FKP4u20Q_normal.jpeg', profile_sidebar_fill_color=u'DDEEF6', is_translator=False, geo_enabled=False, entities={u'description': {u'urls': []}}, followers_count=7589, protected=False, id_str=u'248067666', default_profile_image=False, listed_count=147, lang=u'en', utc_offset=-18000, statuses_count=73741, description=u'Where there is injustice, there is Resistance!!! #OccupationKills #BDS #BlackLivesMatter #PalestinianLivesMatter', friends_count=6834, profile_link_color=u'0084B4', profile_image_url=u'http://pbs.twimg.com/profile_images/503583845397307392/FKP4u20Q_normal.jpeg', notifications=False, profile_background_image_url_https=u'https://abs.twimg.com/images/themes/theme1/bg.png', profile_background_color=u'C0DEED', profile_banner_url=u'https://pbs.twimg.com/profile_banners/248067666/1470530019', profile_background_image_url=u'http://abs.twimg.com/images/themes/theme1/bg.png', name=u'MEastQuagmire', is_translation_enabled=False, profile_background_tile=False, favourites_count=1269, screen_name=u'MEastQuagmire', url=None, created_at=datetime.datetime(2011, 2, 6, 5, 20, 35), contributors_enabled=False, location=u'', profile_sidebar_border_color=u'FFFFFF', default_profile=False, following=False), geo=None, in_reply_to_user_id_str=u'47814500', possibly_sensitive=False, lang=u'en', created_at=datetime.datetime(2016, 10, 12, 4, 6, 9), in_reply_to_status_id_str=u'786054122688483328', place=None, source=u'Twitter for Android', extended_entities={u'media': [{u'expanded_url': u'https://twitter.com/MEastQuagmire/status/786055330312687616/photo/1', u'display_url': u'pic.twitter.com/dRxVH5fg8A', u'url': u'https://t.co/dRxVH5fg8A', u'media_url_https': u'https://pbs.twimg.com/media/CuihJ9OWYAEyEbO.jpg', u'id_str': u'786055327401795585', u'sizes': {u'large': {u'h': 292, u'resize': u'fit', u'w': 560}, u'small': {u'h': 292, u'resize': u'fit', u'w': 560}, u'medium': {u'h': 292, u'resize': u'fit', u'w': 560}, u'thumb': {u'h': 150, u'resize': u'crop', u'w': 150}}, u'indices': [99, 122], u'type': u'photo', u'id': 786055327401795585, u'media_url': u'http://pbs.twimg.com/media/CuihJ9OWYAEyEbO.jpg'}]}, retweeted=False, metadata={u'iso_language_code': u'en', u'result_type': u'recent'})"
      ]
     },
     "execution_count": 61,
     "metadata": {},
     "output_type": "execute_result"
    }
   ],
   "source": [
    "# let's take a look at the first one\n",
    "tweets[0]"
   ]
  },
  {
   "cell_type": "code",
   "execution_count": 62,
   "metadata": {
    "collapsed": false
   },
   "outputs": [
    {
     "name": "stdout",
     "output_type": "stream",
     "text": [
      "2016-10-12 04:06:09\n",
      "@bipolrbear @billyeichner I would want to see a Bill Clinton and Donald Trump all coked up #Debate https://t.co/dRxVH5fg8A\n"
     ]
    }
   ],
   "source": [
    "# wrappers come with built in python attributes and methods!\n",
    "print tweets[0].created_at\n",
    "print tweets[0].text"
   ]
  },
  {
   "cell_type": "code",
   "execution_count": 63,
   "metadata": {
    "collapsed": false
   },
   "outputs": [
    {
     "data": {
      "text/plain": [
       "User(follow_request_sent=False, has_extended_profile=False, profile_use_background_image=True, _json={u'follow_request_sent': False, u'has_extended_profile': False, u'profile_use_background_image': True, u'default_profile_image': False, u'id': 248067666, u'profile_background_image_url_https': u'https://abs.twimg.com/images/themes/theme1/bg.png', u'verified': False, u'profile_text_color': u'333333', u'profile_image_url_https': u'https://pbs.twimg.com/profile_images/503583845397307392/FKP4u20Q_normal.jpeg', u'profile_sidebar_fill_color': u'DDEEF6', u'entities': {u'description': {u'urls': []}}, u'followers_count': 7589, u'profile_sidebar_border_color': u'FFFFFF', u'id_str': u'248067666', u'profile_background_color': u'C0DEED', u'listed_count': 147, u'is_translation_enabled': False, u'utc_offset': -18000, u'statuses_count': 73741, u'description': u'Where there is injustice, there is Resistance!!! #OccupationKills #BDS #BlackLivesMatter #PalestinianLivesMatter', u'friends_count': 6834, u'location': u'', u'profile_link_color': u'0084B4', u'profile_image_url': u'http://pbs.twimg.com/profile_images/503583845397307392/FKP4u20Q_normal.jpeg', u'following': False, u'geo_enabled': False, u'profile_banner_url': u'https://pbs.twimg.com/profile_banners/248067666/1470530019', u'profile_background_image_url': u'http://abs.twimg.com/images/themes/theme1/bg.png', u'screen_name': u'MEastQuagmire', u'lang': u'en', u'profile_background_tile': False, u'favourites_count': 1269, u'name': u'MEastQuagmire', u'notifications': False, u'url': None, u'created_at': u'Sun Feb 06 05:20:35 +0000 2011', u'contributors_enabled': False, u'time_zone': u'Central Time (US & Canada)', u'protected': False, u'default_profile': False, u'is_translator': False}, time_zone=u'Central Time (US & Canada)', id=248067666, _api=<tweepy.api.API object at 0x111cb1d50>, verified=False, profile_text_color=u'333333', profile_image_url_https=u'https://pbs.twimg.com/profile_images/503583845397307392/FKP4u20Q_normal.jpeg', profile_sidebar_fill_color=u'DDEEF6', is_translator=False, geo_enabled=False, entities={u'description': {u'urls': []}}, followers_count=7589, protected=False, id_str=u'248067666', default_profile_image=False, listed_count=147, lang=u'en', utc_offset=-18000, statuses_count=73741, description=u'Where there is injustice, there is Resistance!!! #OccupationKills #BDS #BlackLivesMatter #PalestinianLivesMatter', friends_count=6834, profile_link_color=u'0084B4', profile_image_url=u'http://pbs.twimg.com/profile_images/503583845397307392/FKP4u20Q_normal.jpeg', notifications=False, profile_background_image_url_https=u'https://abs.twimg.com/images/themes/theme1/bg.png', profile_background_color=u'C0DEED', profile_banner_url=u'https://pbs.twimg.com/profile_banners/248067666/1470530019', profile_background_image_url=u'http://abs.twimg.com/images/themes/theme1/bg.png', name=u'MEastQuagmire', is_translation_enabled=False, profile_background_tile=False, favourites_count=1269, screen_name=u'MEastQuagmire', url=None, created_at=datetime.datetime(2011, 2, 6, 5, 20, 35), contributors_enabled=False, location=u'', profile_sidebar_border_color=u'FFFFFF', default_profile=False, following=False)"
      ]
     },
     "execution_count": 63,
     "metadata": {},
     "output_type": "execute_result"
    }
   ],
   "source": [
    "# the author is an object in and of itself\n",
    "tweets[0].author"
   ]
  },
  {
   "cell_type": "code",
   "execution_count": 64,
   "metadata": {
    "collapsed": false
   },
   "outputs": [
    {
     "name": "stdout",
     "output_type": "stream",
     "text": [
      "MEastQuagmire\n",
      "http://pbs.twimg.com/profile_images/503583845397307392/FKP4u20Q_normal.jpeg\n"
     ]
    }
   ],
   "source": [
    "# the author's handle\n",
    "print tweets[0].author.screen_name\n",
    "print tweets[0].author.profile_image_url"
   ]
  },
  {
   "cell_type": "markdown",
   "metadata": {},
   "source": [
    "<img src=\"http://pbs.twimg.com/profile_images/746490546831691776/n3aQiG8f_normal.jpg\">"
   ]
  },
  {
   "cell_type": "code",
   "execution_count": 65,
   "metadata": {
    "collapsed": false
   },
   "outputs": [
    {
     "name": "stdout",
     "output_type": "stream",
     "text": [
      "beginning live feed....\n",
      "@hotbbq11 at 2016-10-11 21:08:44: RT @hpyrancher: In case there was any doubt that Hillary is a cold hearted,self centered bitch. Remember Brian Terry. Forget Hillar  with 2757 followers\n",
      "\n",
      "@willybach2011 at 2016-10-11 21:08:44: RT @ProfPCDoherty: Trickle down: just like here! By 2025, most of Donald Trump's tax cuts would go to the wealthiest 1% of Americans https: with 2505 followers\n",
      "\n",
      "@drhoctor2 at 2016-10-11 21:08:44: RT @susankitchens: Earlier I said, Oh, mixup semi understandable. BUT NO!!\n",
      "Nov 28 is the day that the Trump U trial begins!!!! Preoccu  with 1307 followers\n",
      "\n",
      "@Lescambro at 2016-10-11 21:08:44: RT @CNN: Glenn Beck: Hillary Clinton is a 'moral, ethical choice' for Republicans https://t.co/dEHWMQM5xb https://t.co/1Yj5znVdQO with 399 followers\n",
      "\n",
      "@coffee_phoenix at 2016-10-11 21:08:44: Very good article about the impact this election is having on #mentalhealth &amp; why it is triggering. https://t.co/csgMJCsOj2 with 64 followers\n",
      "\n",
      "@KarinDunhill at 2016-10-11 21:08:44: RT @dcexaminer: Revealed: How Hillary Clinton's campaign used Benghazi as a distraction from her private email server scandal  with 614 followers\n",
      "\n",
      "@Booyyakasha at 2016-10-11 21:08:44: RT @KurtSchlichter: Trump talks dirty - I don't care.\n",
      "Hillary Clinton used the SoS position to enrich her family - the media doesn't care. with 50 followers\n",
      "\n",
      "@jobooks32 at 2016-10-11 21:08:44: RT @asamjulian: Bernie Sanders supporter and lifelong democrat, now \"Trumpocrat\" @crickers announces one million former democrats t  with 290 followers\n",
      "\n",
      "@mcc418 at 2016-10-11 21:08:44: Clinton emails reveal hostility toward #Catholics now.\n",
      "\n",
      "\"She has hate in her heart\" ~ Donald J. Trump\n",
      "\n",
      "He's telling the truth.\n",
      "\n",
      "Run from her with 3424 followers\n",
      "\n",
      "@YUNoWake at 2016-10-11 21:08:45: RT @wikileaks: Clinton's secret strategy shows how Clinton pushed to elevate Donald Trump as early as April 2015 #PodestaEmails  with 433 followers\n",
      "\n",
      "@SaundraKwon at 2016-10-11 21:08:45: RT @realDonaldTrump: Wow, @CNN Town Hall questions were given to Crooked Hillary Clinton in advance of big debates against Bernie Sanders. with 1 followers\n",
      "\n",
      "@andyblandina at 2016-10-11 21:08:45: RT @TRUMP_PREZ: WikiLeaks: \n",
      "\n",
      "Hillary Clinton's only strategy to stop #Trump is to label him a bigot. \n",
      "\n",
      "She planned it  with 593 followers\n",
      "\n",
      "@SchrieferJulio at 2016-10-11 21:08:45: RT @realDonaldTrump: Wow, @CNN Town Hall questions were given to Crooked Hillary Clinton in advance of big debates against Bernie Sanders. with 12 followers\n",
      "\n",
      "@damir2f0t0001 at 2016-10-11 21:08:45: RT @realDonaldTrump: Wow, @CNN Town Hall questions were given to Crooked Hillary Clinton in advance of big debates against Bernie Sanders. with 0 followers\n",
      "\n",
      "@dylan_random at 2016-10-11 21:08:45: RT @JYSexton: Idea for Twitter: an optional exit survey for when you unfollow. \"Talked about baseball instead of Donald Trump.\" with 922 followers\n",
      "\n",
      "@OneTrueChange at 2016-10-11 21:08:45: @IAmSteveHarvey Mr. Harvey please inform your listeners that by not voting they give this kind of person her choice https://t.co/NapDwVwUDE with 18 followers\n",
      "\n",
      "@HanDenderson at 2016-10-11 21:08:45: RT @MaddowBlog: Donald Trump even exaggerates dates, apparently. https://t.co/RJTlVHnObT with 195 followers\n",
      "\n",
      "@hopegambrel at 2016-10-11 21:08:45: RT @realDonaldTrump: Wow, @CNN Town Hall questions were given to Crooked Hillary Clinton in advance of big debates against Bernie Sanders. with 239 followers\n",
      "\n",
      "@Daniel_Rivieria at 2016-10-11 21:08:45: RT @SamHarrisOrg: If you care about national security, you should find this more disturbing than Clinton's emails. https://t.co/fvmsaa6Ark with 162 followers\n",
      "\n",
      "@allenbarr1 at 2016-10-11 21:08:45: RT @windyfrostt: I HAVEN'T BEEN AS EXCITED TO VOTE FOR A CANDIDATE AS I AM THIS YEAR.DONALD J TRUMP WILL TAKE THIS COUNTRY BACK.IT I  with 1937 followers\n",
      "\n",
      "@mark_callaghan1 at 2016-10-11 21:08:45: RT @JoyAnnReid: The mind just reels. https://t.co/gakvHuifGC with 5 followers\n",
      "\n",
      "@miclvasquez at 2016-10-11 21:08:45: RT @realDonaldTrump: Wow, @CNN Town Hall questions were given to Crooked Hillary Clinton in advance of big debates against Bernie Sanders. with 70 followers\n",
      "\n",
      "@femalep at 2016-10-11 21:08:45: RT @BloombergTV: Hillary Clinton: We cant risk putting a climate change denier in the White House https://t.co/F2fkYIXok6 https://t.co/C1t with 1305 followers\n",
      "\n",
      "@missdonnasgavel at 2016-10-11 21:08:45: RT @bfraser747:  #WakeUpAmerica \n",
      "\n",
      "#Hillary #Clinton doesn't care about #BlackLives She only cares about #BlackVotes #NeverHilary  with 100 followers\n",
      "\n",
      "@satirist_indian at 2016-10-11 21:08:46: RT @davidsirota: BREAKING: Emails show Clinton moved to avoid helping single-payer measure as healthcare cash flowed to her campaign https: with 1530 followers\n",
      "\n",
      "@folsomdweller2 at 2016-10-11 21:08:46: RT @mattfleg: Teammates, rivals and, for the first time in 16 years, co-campaigners. Hillary Clinton and Al Gore take Florida. https://t.co with 113 followers\n",
      "\n",
      "@shannonehlers at 2016-10-11 21:08:46: RT @UnityActivist: If you're Black and you vote for Hillary Clinton after she called you a Super Predator, then you really are one.\n",
      "\n",
      " https with 16 followers\n",
      "\n",
      "@PatrickOHenryTX at 2016-10-11 21:08:46: RT @foxnation: WikiLeaks: Hillary Clinton Confidantes Mock Evangelicals and Conservative Catholics in Podesta Emails: https://t.co/kwpGwPso with 2228 followers\n",
      "\n",
      "@Honolulu_NC at 2016-10-11 21:08:46: Reality Check: Did Hillary Clinton attack her husband's accusers? - KITV Honolulu: Reality Check: Did Hillary... https://t.co/jG3CZQBNVM with 14 followers\n",
      "\n",
      "@KingFeezle at 2016-10-11 21:08:46: RT @TracyFortShow: HELL HAS FROZEN OVER!! Glenn Beck, conservative pundit, endorses Hillary Clinton for president: https://t.co/n1k2rfZaOn with 3458 followers\n",
      "\n",
      "@biqudowitoz at 2016-10-11 21:08:46: Ken Bone - https://t.co/Y2CRKfnKHL Trump prepares an act of utter incivility  throwing Bill Clinton's actions in Hillary Clinton's face with 23 followers\n",
      "\n",
      "@kelseymaren_ at 2016-10-11 21:08:46: RT @CloydRivers: I'm not a Hillary Clinton email. https://t.co/kyvA0ng625 with 214 followers\n",
      "\n",
      "@Tesla_X at 2016-10-11 21:08:46: RT @NolteNC: But-but-but Trump 11 years ago! https://t.co/5lsFPl1R6T with 157 followers\n",
      "\n",
      "@saratjoy at 2016-10-11 21:08:46: RT @mitchellvii: I have a feeling once Trump is POTUS, Paul Ryan's days as Speaker will be soon over. https://t.co/bCLdXkOtpS with 194 followers\n",
      "\n",
      "@HowellMarketing at 2016-10-11 21:08:46: RT @HPSelf: Hear it in her own words: Hillary Clinton to Raise Taxes on Middle Class https://t.co/BpN4sXVXEq #Hillary #Taxes If U want your with 36641 followers\n",
      "\n",
      "@Sharonahess at 2016-10-11 21:08:46: RT @cher: https://t.co/izLiQ5Qu2V PLS CREW,RT THIS..ITS MORE IMPORTANT THAN U REALIZEU COULD WAKE UP2\n",
      " PRESIDENTDONALD TRUMP ON INAUGUR with 42 followers\n",
      "\n",
      "@T_Gracchus at 2016-10-11 21:08:46: RT @amoine: Holy crap, North Carolina Republican voting is down by HALF compared to 2012 https://t.co/S2e002uP1K with 1400 followers\n",
      "\n",
      "@BGiffuni at 2016-10-11 21:08:46: RT @jerryspringer: While I may not be able to moderate a debate, sounds like Mike Pence and Donald Trump might need to come on my show to t with 378 followers\n",
      "\n",
      "@pecunium at 2016-10-11 21:08:46: RT @rromnija: Donald Trump: we need law and order\n",
      "\n",
      "also Donald trump: sexual assault is ok if you're famous with 769 followers\n",
      "\n",
      "@strangest_one at 2016-10-11 21:08:46: RT @tbhjuststop: Donald Trump writing a term paper:\n",
      "\n",
      "Sources Cited:\n",
      "1. You Know It\n",
      "2. I know It\n",
      "3. Everybody Knows It with 223 followers\n",
      "\n",
      "@ashlyn_famulary at 2016-10-11 21:08:46: RT @realDonaldTrump: Wow, @CNN Town Hall questions were given to Crooked Hillary Clinton in advance of big debates against Bernie Sanders. with 10 followers\n",
      "\n",
      "@fl_av8tr at 2016-10-11 21:08:46: RT @mitchellvii: Trumpocrats  Jaw Dropping Numbers of Democrats Supporting Donald Trump | The Last Refuge https://t.co/F9Lt6nl7O8 with 161 followers\n",
      "\n",
      "@Jacobfi at 2016-10-11 21:08:47: RT @AIIAmericanGirI: Secret Service Officer Gary J. Byrne: 'The Hillary Clinton I Know Is a Complete Pathological Liar'\n",
      "https://t.co/2pl5tP with 63 followers\n",
      "\n",
      "@dwelch57 at 2016-10-11 21:08:47: RT @KristaKaroFL: What Donald Trump did to the Republican party. #SPLITin2 https://t.co/466FPLHrN2 with 120 followers\n",
      "\n",
      "@VeteransAdvoc at 2016-10-11 21:08:47: RT @KellyannePolls: Rubio stands by Trump, saying 'I do not want Hillary Clinton to be our next president' https://t.co/bULYGz2cyb via @TB_ with 1118 followers\n",
      "\n",
      "@deanawa55339161 at 2016-10-11 21:08:47: This is magnificent! https://t.co/0At9xRYEzw with 1118 followers\n",
      "\n",
      "@Mandari25733571 at 2016-10-11 21:08:47: RT @letters2donald: Children's letters to Donald Trump:\n",
      "  Since you lost other peple money in bussineses, I don't think you should run Amer with 103 followers\n",
      "\n",
      "@siebrosius at 2016-10-11 21:08:47: RT @trap_lawdd: fudge donald trump and his minions. they have been sent here to destroy us. vote 4 Hillary https://t.co/YOfuxPatZG with 1044 followers\n",
      "\n",
      "@FPOTUSA1 at 2016-10-11 21:08:47: https://t.co/D2wECEpxFa with 143 followers\n",
      "\n",
      "@JLauty18 at 2016-10-11 21:08:47: RT @realDonaldTrump: I hope people are looking at the disgraceful behavior of Hillary Clinton as exposed by WikiLeaks. She is unfit to run. with 281 followers\n",
      "\n",
      "@emm_vargas at 2016-10-11 21:08:48: RT @21savaage: fuck donald trump with 839 followers\n",
      "\n",
      "@SelfGriswold at 2016-10-11 21:08:48: RT @_Makada_: WIKILEAKS: Emails show Hillary Clinton selling access to human rights-abusing govt of Morocco.\n",
      "\n",
      "#PodestaEmails3 \n",
      "https://t.co with 296 followers\n",
      "\n",
      "@next65 at 2016-10-11 21:08:48: RT @GlobalBC: The developer of #Vancouver's Trump Tower is staying firm and standing by Donald Trump. https://t.co/B4SWp4d6kN with 82 followers\n",
      "\n",
      "@LouleDafuq at 2016-10-11 21:08:48: RT @Amy_Dubya: This needs to go viral with #Catholics and #Evangelicals https://t.co/iQdOLtdh0P with 29 followers\n",
      "\n",
      "@SherriBursey at 2016-10-11 21:08:48: RT @KevinDarryl: EVERYONE RETWEET! People Are Sharing A Fake Hillary Clinton Speech Transcript https://t.co/SCDBe8YjPi via @CraigSilverman with 222 followers\n",
      "\n",
      "@cleopatrahamme3 at 2016-10-11 21:08:48: RT @realDonaldTrump: Wow, @CNN Town Hall questions were given to Crooked Hillary Clinton in advance of big debates against Bernie Sanders. with 1 followers\n",
      "\n",
      "@Hwk765 at 2016-10-11 21:08:48: RT @StefanMolyneux: Comparing Abraham Lincoln and Hillary Clinton... https://t.co/MKyAy691PO with 2488 followers\n",
      "\n",
      "@samdonsky at 2016-10-11 21:08:48: RT @washingtonpost: Donald Trumps free fall, according to cartoons https://t.co/1Xpoidg7at with 59 followers\n",
      "\n",
      "@Laser_Davey at 2016-10-11 21:08:48: RT @realDonaldTrump: Wow, @CNN Town Hall questions were given to Crooked Hillary Clinton in advance of big debates against Bernie Sanders. with 9 followers\n",
      "\n",
      "@DerbyBredinKY at 2016-10-11 21:08:48: @nbcsnl Donald Trump is an American Terrorist !!!     ( prove it ) with 556 followers\n",
      "\n",
      "@XCrvene at 2016-10-11 21:08:48: A hacker from Serbia was able to scan Hillary's private server twice in 2012 https://t.co/cQiEdtD9hi #Serbia #HillaryBombedSerbs with 544 followers\n",
      "\n",
      "@CathyTX at 2016-10-11 21:08:48: RT @kurteichenwald: In @Newsweek: Follow how bogus info pushed by Russians intended to harm US election ended up recited by Trump. https:// with 863 followers\n",
      "\n",
      "@RobP_Seattle at 2016-10-11 21:08:48: RT @Kasparov63: Several of us have been pointing out for months that many of Trump's talking points come from Kremlin disinfo with  with 302 followers\n",
      "\n",
      "@cubans4you at 2016-10-11 21:08:48: RT @awzurcher: Assuming the email is legit, seems pretty clear Brazile tried to tip Clinton off to primary town hall question https://t.co/ with 932 followers\n",
      "\n",
      "@Cassiel_Angelos at 2016-10-11 21:08:48: #octobersurprise\n",
      "#HillaryBigTunaAccardo\n",
      "#DNCLeak\n",
      "#Hillary\n",
      "#Trump\n",
      "#BillClintonIsARapist\n",
      "#IndictHillary https://t.co/W6JpryFwgR with 284 followers\n",
      "\n",
      "@ptco911 at 2016-10-11 21:08:48: RT @Gengm7: Trump campaign continues tough offense on Hillary Clinton https://t.co/yvIRdEca5f\n",
      "#CrookedHillary #Trump2016 #MAGA #AmericaFirst with 2042 followers\n",
      "\n",
      "@RockyRocko1009 at 2016-10-11 21:08:49: RT @realDonaldTrump: I hope people are looking at the disgraceful behavior of Hillary Clinton as exposed by WikiLeaks. She is unfit to run. with 45 followers\n",
      "\n",
      "@SubBeck at 2016-10-11 21:08:49: Maybe they don't want the whole GOP ticket destroyed. https://t.co/y3RVYXwsOX with 2642 followers\n",
      "\n",
      "@CindyDay1 at 2016-10-11 21:08:49: RT @realDonaldTrump: Wow, @CNN Town Hall questions were given to Crooked Hillary Clinton in advance of big debates against Bernie Sanders. with 1751 followers\n",
      "\n",
      "@Hellmut01 at 2016-10-11 21:08:49: #1 Donald Trump: I applaud your changed attitude, though it may be too late to mend the GOP.   Do you remember Pam L. of Concord, NH? with 0 followers\n",
      "\n",
      "@morehouse64 at 2016-10-11 21:08:49: Election Update: Women Are Defeating Donald Trump https://t.co/7oD0l7L3EF or women are supporting a rapist enabler! #Feminism falls with 14331 followers\n",
      "\n",
      "@413714 at 2016-10-11 21:08:49: RT @Flewbys: .@HillaryClinton hell ya he's been following this election!The only intervention needed is #ImWithHer Condescendin  with 390 followers\n",
      "\n",
      "@scoutpiano at 2016-10-11 21:08:49: RT @realDonaldTrump: I hope people are looking at the disgraceful behavior of Hillary Clinton as exposed by WikiLeaks. She is unfit to run. with 1630 followers\n",
      "\n",
      "@Sapphire80129 at 2016-10-11 21:08:49: RT @FoxNewsInsider: WikiLeaks Dump: Top Clinton Aides Slam Catholicism, Evangelical Christianity\n",
      "https://t.co/1YrbunV1Xn with 194 followers\n",
      "\n",
      "@Jo02382320 at 2016-10-11 21:08:49: That time Rudy Giuliani dressed in drag and Donald Trump sniffed his chest...: https://t.co/3E1mweuqKK via @YouTube with 0 followers\n",
      "\n",
      "@madrosa at 2016-10-11 21:08:49: https://t.co/09y6Gs4fHS with 19 followers\n",
      "\n",
      "@RyanDDowns at 2016-10-11 21:08:50: RT @Veteran4Trump: U.S. Navy Seal Dom Raso slams Hillary Clinton \"You are not worthy of the office you seek\" #NeverHillary\n",
      "https://t.co/WSH with 4259 followers\n",
      "\n",
      "@JelsonDr at 2016-10-11 21:08:50: RT @WhoWolfe: WikiLeaks Dump Shows Debate Moderator GLOATING Over Provoking Donald Trump https://t.co/2jA3RsObRR with 254 followers\n",
      "\n",
      "@LoriSums at 2016-10-11 21:08:50: RT @AC360: WSJ's @monicalangley on Trump's strategy: \"He's hoping he can suppress [Hillary Clinton's] turnout.\" https://t.co/Pzhz7phkYq with 4211 followers\n",
      "\n",
      "@LouDAngelo1 at 2016-10-11 21:08:50: RT @katlute: @AprilLaJune @sme4201968 Amen!  Asking God to act against this evil and bestow His favor on this good man, Donald Trump. with 306 followers\n",
      "\n",
      "@sheilagraves at 2016-10-11 21:08:50: RT @CBCPolitics: Canada's 1st female PM says Donald Trump is a self-celebrating sexual predator whose rhetoric threatens democracy  with 121 followers\n",
      "\n",
      "@ObamaNewClothes at 2016-10-11 21:08:50: @bobrod42 @AJDelgado13 @brianstelter Rapist Al Gore joins Rapist Bill Clinton on the campaign trail for Rapist-enabler Hillary Clinton! with 352 followers\n",
      "\n",
      "@bjstatha at 2016-10-11 21:08:50: RT @_Makada_: WIKILEAKS: Emails show Hillary Clinton selling access to human rights-abusing govt of Morocco.\n",
      "\n",
      "#PodestaEmails3 \n",
      "https://t.co with 137 followers\n",
      "\n",
      "@AngelinaSnow007 at 2016-10-11 21:08:50: RT @MrDane1982: Donald Trump will quit before November 8th, he rather burn the entire party down before losing too a woman &amp; especially by with 88 followers\n",
      "\n",
      "@just20percent at 2016-10-11 21:08:50: RT @BUcrimlaw: Secret Service Officer Gary J. Byrne: The Hillary Clinton I Know Is a Complete Pathological Liar' https://t.co/8s6XNnLJh2 with 1770 followers\n",
      "\n",
      "@TBLeek at 2016-10-11 21:08:50: Samantha Bee unleashes NSFW \"Vagina Monologue\" on @realDonaldTrump https://t.co/dH8VFA5fij via @HuffPostComedy with 1733 followers\n",
      "\n",
      "@xlindab at 2016-10-11 21:08:51: It was a fabulous policy rally. So proud to b a democrat https://t.co/dJ1TAyltXa with 19 followers\n",
      "\n",
      "@fairymoon4 at 2016-10-11 21:08:51: RT @AP: VIDEO: Donald Trump supporters boo House Speaker Paul Ryan at Wisconsin rally. https://t.co/sUlX4WxIsP with 1054 followers\n",
      "\n",
      "@donparrish50 at 2016-10-11 21:08:51: RT @asamjulian: Bernie Sanders supporter and lifelong democrat, now \"Trumpocrat\" @crickers announces one million former democrats t  with 35 followers\n",
      "\n",
      "@MkAmrcaGrt at 2016-10-11 21:08:51: RT @StefanMolyneux: After a reporter asks Donald Trump about touching women without consent, Paula Jones responds: \"Why don't you ask B  with 280 followers\n",
      "\n",
      "@motherlandhome at 2016-10-11 21:08:51: RT @_Makada_: WIKILEAKS: Emails show Hillary Clinton selling access to human rights-abusing govt of Morocco.\n",
      "\n",
      "#PodestaEmails3 \n",
      "https://t.co with 160 followers\n",
      "\n",
      "@venimdenim1 at 2016-10-11 21:08:51: @jbey @seanjjordan BILL CLINTON IS A SERIAL RAPIST. HILLARY INTIMIDATED &amp; SHAMED HIS VICTIMS. CHAMPION OF WOMEN! with 200 followers\n",
      "\n",
      "@SheilaWieg at 2016-10-11 21:08:51: RT @WesleyRickard: Over 1,000,000 Democrats have switched to Republican to vote  Donald Trump for President RT #Trump #TrumpTrain  with 2036 followers\n",
      "\n",
      "@ThatGirlPettyy at 2016-10-11 21:08:51: She sounds dumb lol stfu https://t.co/8I0AZKzN8P with 247 followers\n",
      "\n",
      "@lady10314 at 2016-10-11 21:08:51: RT @AlanKestrel750: Just Donald Trump telling people to vote on November 28th... https://t.co/RdeqCo0JSd with 3642 followers\n",
      "\n",
      "@Red1Echo at 2016-10-11 21:08:51: @algore @HillaryClinton are being laughed at by the entire scientific community.\n",
      "#climatechange\n",
      "#JunkScience https://t.co/GmLXv97tOC with 406 followers\n",
      "\n",
      "@somedaygirl at 2016-10-11 21:08:51: RT @realDonaldTrump: I hope people are looking at the disgraceful behavior of Hillary Clinton as exposed by WikiLeaks. She is unfit to run. with 573 followers\n",
      "\n",
      "@numnuts_forever at 2016-10-11 21:08:51: RT @WeNeedFeminlsm: THE WAY DONALD TRUMP TREATS WOMEN IS DISGUSTING AND REPULSIVE. NOTHING ABOUT THIS IS OK. https://t.co/LMBjGoPgNT with 631 followers\n",
      "\n",
      "@Caslders at 2016-10-11 21:08:52: RT @timgw37: Leaked Audio - Hillary Clinton: American People Have No Constitutional Right To Bear Arms - https://t.co/uiHakygi4s @timgw37 with 38 followers\n",
      "\n",
      "@JuanDuPlooy10 at 2016-10-11 21:08:52: RT @realDonaldTrump: We agree @POTUS-\n",
      "\n",
      "\"SHE'LL (Hillary Clinton) SAY ANYTHING &amp; CHANGE NOTHING. IT'S TIME TO TURN THE PAGE\" -President Obama with 493 followers\n",
      "\n",
      "@laurameckler at 2016-10-11 21:08:52: Hillary Clinton campaign manager blames Russia for email hack and suggests Trump camp knew in advance  https://t.co/ZcvB6dsdV9 via @WSJ with 7112 followers\n",
      "\n",
      "@EidojHarr at 2016-10-11 21:08:52: RT @gjathanas: It seems that I was absolutely correct when I said a vote for #Democrats is bad for #Israel.\n",
      "#copolitics #MAGA  with 408 followers\n",
      "\n",
      "@djss1grgr at 2016-10-11 21:08:52: RT @WesleyRickard: 10-11-2016 Law Enforcement showing their support for Donald Trump today. #Trump #TX #MAGA RT This show of support f  with 752 followers\n",
      "\n",
      "@StephenLicetti at 2016-10-11 21:08:52: RT @StefanMolyneux: According to a leaked Hillary Clinton email, Saudi Arabia was directly funding ISIS. They also gave $25 million to  with 350 followers\n",
      "\n",
      "@Envycoleee at 2016-10-11 21:08:52: RT @BreeHawkins11: If I see this damn tweet one more time  https://t.co/DXqaZWyZJv with 722 followers\n",
      "\n",
      "@ShelbyAnderson at 2016-10-11 21:08:52: RT @realDonaldTrump: Wow, @CNN Town Hall questions were given to Crooked Hillary Clinton in advance of big debates against Bernie Sanders. with 276 followers\n",
      "\n",
      "@CatalenaNikole at 2016-10-11 21:08:52: RT @AtomasVictory: THE PLANNED SABOTAGE OF DONALD TRUMP - RT !\n",
      "\n",
      "How &amp; Why (Part 1 of 3)\n",
      "\n",
      "I will be posting related videos for part 2 &amp;  with 2146 followers\n",
      "\n",
      "@silverdolphin77 at 2016-10-11 21:08:52: RT @Veteran4Trump: This is Michelle Obama; Hillary Clinton's good Friend telling America the truth: Hillary is \"Unfit for the White Ho  with 265 followers\n",
      "\n",
      "@noticiasrdapp at 2016-10-11 21:08:52: Donald Trump arremete contra republicanos https://t.co/JMQPH4kzTR with 38 followers\n",
      "\n",
      "@JohnCressey2 at 2016-10-11 21:08:52: RT @virginiahughes:  https://t.co/4b1w9BgzJJ with 44 followers\n",
      "\n",
      "@CarissaRondeau at 2016-10-11 21:08:53: RT @OhNoSheTwitnt: [gets caught using Bill Clinton's credit card]\n",
      "But Hillary's husband did it too!\n",
      "\n",
      "Cop: Ok you're free to go.\n",
      "\n",
      "Really?\n",
      "\n",
      "C with 61 followers\n",
      "\n",
      "@LisaSMNO at 2016-10-11 21:08:53: RT @awzurcher: Assuming the email is legit, seems pretty clear Brazile tried to tip Clinton off to primary town hall question https://t.co/ with 84 followers\n",
      "\n",
      "@respect4all at 2016-10-11 21:08:53: @PamelaStar23 \n",
      "\n",
      "Trump incorrectly quotes Blumenthal email - Except Blumenthal was really quoting Eichewald :\n",
      "https://t.co/QTju0GM3vJ with 707 followers\n",
      "\n",
      "@cauzenyattagirl at 2016-10-11 21:08:53: RT @realDonaldTrump: I hope people are looking at the disgraceful behavior of Hillary Clinton as exposed by WikiLeaks. She is unfit to run. with 1209 followers\n",
      "\n",
      "@BerkowitzAnne at 2016-10-11 21:08:53: RT @billfirn06: @SpeakerRyan I feel the same way. The HELL with the establishment @GOP @JebBush @Reince better fix this NOW! https://t.co/X with 3102 followers\n",
      "\n",
      "@Heinzilla at 2016-10-11 21:08:53: RT @politifax: I published this photo of Hillary Clinton and the response was overwhelming - Shareblue https://t.co/HkCDvQKQpg with 753 followers\n",
      "\n",
      "@Titasantucci at 2016-10-11 21:08:53: @votolatino @LatinoVoices @Latina https://t.co/A4EYXnQp2l with 67 followers\n",
      "\n",
      "@vaguy22206 at 2016-10-11 21:08:53: RT @HuffPostPol: Donald Trump tells Florida supporters the wrong date for Election Day https://t.co/GszAG5Mboc https://t.co/sKSZrK8dYe with 401 followers\n",
      "\n",
      "@lucillerussell9 at 2016-10-11 21:08:53: RT @LindaSuhler: Hillary Clinton took up to $25 million from Saudi Arabia, where being gay is punishable by DEATH. #NeverHillary  with 3070 followers\n",
      "\n",
      "@SpecialKMB1969 at 2016-10-11 21:08:53: RT @2ALAW: Martha Stewart Went To Jail For Lying To The FBI One Time \n",
      "Hillary Clinton Did It - 39 Times\n",
      "\n",
      "#debates https://t.co/kHlToGrPvK with 47428 followers\n",
      "\n",
      "@Robot_Cherrylwh at 2016-10-11 21:08:53: RT @realDonaldTrump: Wow, @CNN Town Hall questions were given to Crooked Hillary Clinton in advance of big debates against Bernie Sanders. with 2 followers\n",
      "\n",
      "@milkyway0073 at 2016-10-11 21:08:53: RT @KazmierskiR: #CrookedHillary   #TrumpUnshackeled   #ChristiansUnited  BERNIE SANDERS WIFE THREATENED   #Assange  with 201 followers\n",
      "\n",
      "@susana_har at 2016-10-11 21:08:53: RT @YuririaSierra: Buenas noches a todos (menos a los que todava osan apoyar a Donald Trump) ... with 40 followers\n",
      "\n",
      "@james_kacee at 2016-10-11 21:08:54: RT @foxnation: WikiLeaks: Hillary Clinton Confidantes Mock Evangelicals and Conservative Catholics in Podesta Emails: https://t.co/kwpGwPso with 88 followers\n",
      "\n",
      "@TheUndine3 at 2016-10-11 21:08:54: RT @movement_trump: The Press is just an extension of Hillary Clinton &amp; her campaign! #lyingliberalmedia https://t.co/U3g2pVtTv5 with 1627 followers\n",
      "\n",
      "@CarlForsling at 2016-10-11 21:08:54: RT @rcraigwhite: Finally I agree with something Trump says https://t.co/HUJ97wfwKz with 2092 followers\n",
      "\n",
      "@noticiasrdapp at 2016-10-11 21:08:54: Hillary Clinton ampla su ventaja a 11 puntos https://t.co/k0xjQ3qGJk with 38 followers\n",
      "\n",
      "@manuelcruz7777 at 2016-10-11 21:08:54: RT @NATEGAWD: Mexican #JuJuOnThatBeat Challenge  YOU UGLY LIKE DONALD TRUMP  https://t.co/OpXB27xchb with 355 followers\n",
      "\n",
      "@Ginlefebvre at 2016-10-11 21:08:54: RT @wikileaks: RELEASE: Hillary Clinton's private paid speech extracts now in handy Kindle, book reader and PDF formats  with 4171 followers\n",
      "\n",
      "@maiyklcher at 2016-10-11 21:08:54: RT @realDonaldTrump: Wow, @CNN Town Hall questions were given to Crooked Hillary Clinton in advance of big debates against Bernie Sanders. with 4 followers\n",
      "\n",
      "@Envycoleee at 2016-10-11 21:08:54: RT @PotierMichael: Bruh  @darienkade33 @NSayon https://t.co/KhvIjk7vJf with 722 followers\n",
      "\n",
      "@NeverMoreBUSH at 2016-10-11 21:08:54: RT @KevinDarryl: EVERYONE RETWEET! People Are Sharing A Fake Hillary Clinton Speech Transcript https://t.co/SCDBe8YjPi via @CraigSilverman with 3309 followers\n",
      "\n",
      "@the_ngwales at 2016-10-11 21:08:54:  https://t.co/jKkTVazMbR with 2500 followers\n",
      "\n",
      "@VincePrime at 2016-10-11 21:08:54: RT @realDonaldTrump: Wow, @CNN Town Hall questions were given to Crooked Hillary Clinton in advance of big debates against Bernie Sanders. with 20 followers\n",
      "\n",
      "@MollyMiller951 at 2016-10-11 21:08:55: @megynkelly Actually... yes, it IS Hillary Clinton too. \n",
      "#ConservativeCatholics\n",
      "https://t.co/IUApsutZTU with 638 followers\n",
      "\n",
      "@dale_je at 2016-10-11 21:08:55: RT @realkingrobbo: Arms dealer says administration made him scapegoat on Libya operation to 'protect' Hillary Clinton  https://t.co/EKmgui with 2164 followers\n",
      "\n",
      "@BrendaisGrant at 2016-10-11 21:08:55: RT @HouseCracka: Inconveniently Truthful: After the airing of tapes recently that showed Donald Trump making crude remarks abo... https://t with 1558 followers\n",
      "\n",
      "@camilledover37 at 2016-10-11 21:08:55: RT @foxandfriends: Hillary Clinton in 2013 private speech: They can't possibly vet all those refugees; don't know if jihadists are com  with 245 followers\n",
      "\n",
      "@Lauraleigh_NASM at 2016-10-11 21:08:55: Donald Trump is coming to town this week..I wonder how nutty people are going to act?!? #letsbenice with 3 followers\n",
      "\n",
      "@MegaUltraFluffy at 2016-10-11 21:08:55: RT @StefanMolyneux: According to a leaked Hillary Clinton email, Saudi Arabia was directly funding ISIS. They also gave $25 million to  with 61 followers\n",
      "\n",
      "@AylaSchermer at 2016-10-11 21:08:55: RT @mport56: YES. TRUMP SUPPORTERS. VOTE ON NOV. 28th https://t.co/5HPxnWGM1U with 571 followers\n",
      "\n",
      "@IssoufouGago at 2016-10-11 21:08:55: RT @_Makada_: Protesters wearing 'Bill Clinton is a rapist' T-shirts interrupt President Obama during Hillary rally!\n",
      "\n",
      "https://t.co/Hac4Jn0f with 29 followers\n",
      "\n",
      "@tmichiaki at 2016-10-11 21:08:55: RT @KS_1013: WP\n",
      "https://t.co/ with 1209 followers\n",
      "\n",
      "@toxicpath at 2016-10-11 21:08:55: RT @HCookAustin: Trump supporters should absolutely take his advice. https://t.co/AvRQ7rSqAw with 2440 followers\n",
      "\n",
      "@williamsl4 at 2016-10-11 21:08:55: RT @MrDane1982: Im not voting for Bill Clinton, he's not on the ballot, now lets stay on the topic with Donald Trump grabbing women  with 266 followers\n",
      "\n",
      "@natshopkins02 at 2016-10-11 21:08:55: RT @BadAdviceDog: by 2016 I thought we would have flying cars and cool technology but instead we have killer clowns &amp; donald trump running with 106 followers\n",
      "\n",
      "@FergOSU at 2016-10-11 21:08:55: Bring it on... https://t.co/X9uxBfDlZG with 1416 followers\n",
      "\n",
      "@SamanthaCotter9 at 2016-10-11 21:08:55: I liked a @YouTube video from @intelrebels2127 https://t.co/XT55TXnh7C Hillary Clinton: Im the Last Thing Standing Between You with 524 followers\n",
      "\n",
      "@All_Rice808 at 2016-10-11 21:08:55: RT @realDonaldTrump: Wow, @CNN Town Hall questions were given to Crooked Hillary Clinton in advance of big debates against Bernie Sanders. with 14 followers\n",
      "\n",
      "@mariap2145 at 2016-10-11 21:08:55: RT @ChatRevolve: Hillary Clinton and Al Gore rally in Miami we spotted ambulance following Her motorcade as they left #MDC  with 832 followers\n",
      "\n",
      "@macamaw61 at 2016-10-11 21:08:56: RT @peddoc63: Intelligent people don't need #Wikileaks to know that the media is in cahoots with Hillary Clinton's campaign. #KellyFile #Po with 248 followers\n",
      "\n",
      "@TheBeat_Boss at 2016-10-11 21:08:56: RT @asamjulian: Bernie Sanders supporter and lifelong democrat, now \"Trumpocrat\" @crickers announces one million former democrats t  with 3247 followers\n",
      "\n",
      "@Pyotr__Stolypin at 2016-10-11 21:08:56: RT @JasonMillerinDC: Ben Carson says Donald Trump prayed for forgiveness before the presidential debate https://t.co/d5jvoFqHjq with 1207 followers\n",
      "\n",
      "@notTrumpfoPrez at 2016-10-11 21:08:56: RT @Darren32895836: BREAKING!!! Wikileaks Exposes Hillary Clinton Secret Plan to stop Donald Trump by labeling him a bigot!  with 647 followers\n",
      "\n",
      "@__atropellada at 2016-10-11 21:08:56: RT @sarahkendzior: Called it https://t.co/9sBdaAeKjd https://t.co/LF7UhOuNda with 48 followers\n",
      "\n",
      "@Ricca_19 at 2016-10-11 21:08:56: RT @EntheosShines: Donald Trump Signs Promise To Battle The Sexploitation Of Children As President.  Hillary Has Not Signed The Pledge  htt with 307 followers\n",
      "\n",
      "@Diener_Gottes at 2016-10-11 21:08:56: North Carolina Poll: Donald Trump, Hillary Clinton Virtually Tied: A poll conducted by High https://t.co/JMpvOnixXf with 279 followers\n",
      "\n",
      "@siliconvalleyex at 2016-10-11 21:08:56: .@kayleighmvenany Do all Trump's family &amp; surrogates lie at will? And, u r suppose 2 b Christian. The hypocrisy is https://t.co/bDsiOPM04Q with 360 followers\n",
      "\n",
      "@SNWeidick at 2016-10-11 21:08:56: RT @ChatRevolve: Hillary Clinton and Al Gore rally in Miami we spotted ambulance following Her motorcade as they left #MDC  with 116 followers\n",
      "\n",
      "@Nhertwenties at 2016-10-11 21:08:56: RT @papermagazine: Azealia Banks signs new record deal, swears off politics/Donald Trump https://t.co/CW2U9YQrXm https://t.co/XLTSpLyWkF with 1326 followers\n",
      "\n",
      "@NatalieEvans85 at 2016-10-11 21:08:56: Um, so Donald Trump doesn't actually know the date of the election he's running in... https://t.co/7aQN7ySJYO https://t.co/IJz8yGca21 with 1808 followers\n",
      "\n",
      "@JessMe757 at 2016-10-11 21:08:56: RT @realDonaldTrump: Wow, @CNN Town Hall questions were given to Crooked Hillary Clinton in advance of big debates against Bernie Sanders. with 125 followers\n",
      "\n",
      "@krenw13 at 2016-10-11 21:08:56: RT @LindaScribbling: Be careful believing new emails released on Wikileaks. Some are faked in order to hurt HRC's candidacy. https://t.co/E with 2 followers\n",
      "\n",
      "@413714 at 2016-10-11 21:08:56: RT @LorenceHud: WIKILEAKS dump shows Hillary Clinton calling Muslims sandniggers  BARE NAKED ISLAM\n",
      "https://t.co/waL8BjCnNq with 390 followers\n",
      "\n",
      "@PressBoxHot at 2016-10-11 21:08:56: RT @gatewaypundit: BREAKING: HIllary and Al Gore Interrupted by Bill Clinton Is Rapist! Protester (Video) https://t.co/FK5dMy4rxl via @ga with 30 followers\n",
      "\n",
      "@PressBoxHot at 2016-10-11 21:08:56: RT @_Makada_: Bill Clinton's illegitimate half-black son who was BANISHED by Hillary video interview!\n",
      "\n",
      "https://t.co/nmM1bikE9T https://t.co with 30 followers\n",
      "\n",
      "@PressBoxHot at 2016-10-11 21:08:56: RT @WayneDupreeShow: LOL! Hillary Is Greeted With \"Bill Clinton Is A Rapist\" During Florida Rally https://t.co/khcXPW6lAd via @WayneDupreeS with 30 followers\n",
      "\n",
      "@PressBoxHot at 2016-10-11 21:08:56: RT @Cernovich: Hillarys Daddy  Hot New Viral Video Forces Clinton Supporters to Ask Hard Questions on #NationalComingOutDay\n",
      "https://t.co/ with 30 followers\n",
      "\n",
      "@PressBoxHot at 2016-10-11 21:08:56: RT @Cernovich: Rotten Hillary's rallies are being interrupted with the truth!\n",
      "\n",
      "https://t.co/slAl76dHFv with 30 followers\n",
      "\n",
      "@rzausa at 2016-10-11 21:08:56: Hillary Clinton Insults A Young African American Voter https://t.co/ZoOQwG7BPs with 16 followers\n",
      "\n",
      "@dale_callihan at 2016-10-11 21:08:56: RT @alexburnsNYT: GEORGIA swings toward Clinton &gt;&gt; Both parties see Trump teetering there as Dems move to expand the map https://t.co/CJSIZ with 361 followers\n",
      "\n",
      "@elium2 at 2016-10-11 21:08:56: RT @joshgondelman: I sincerely believe Donald Trump could be fooled by a well executed \"got your nose.\" with 447 followers\n",
      "\n",
      "@Envycoleee at 2016-10-11 21:08:56: RT @lanashaday: I AM DECEASED  https://t.co/1bYfM8P74L with 722 followers\n",
      "\n",
      "@KathrynCroft at 2016-10-11 21:08:56: RT @nobarriers2016: .@HillaryClinton has unveiled a plan to support coal communities from Appalachia to Wyoming: https://t.co/jEUrXU70L1 #I with 672 followers\n",
      "\n",
      "@richspeechly at 2016-10-11 21:08:56: RT @LaurenWern: An anonymous sound engineer from \"The Apprentice\" says Trump repeatedly called him a f*cking monkey.  with 486 followers\n",
      "\n",
      "@Red1Echo at 2016-10-11 21:08:57: RT @CounterMoonbat: Which shows how shameless and scientifically illiterate they are. https://t.co/41cXjc4OQa with 406 followers\n",
      "\n",
      "@RoamerGlobal at 2016-10-11 21:08:57: RT @DPRK_News: Fall of US republican party from slave-emancipating Abraham Lincoln to crotch-grabbing Donald Trump is precipitous, leading with 99 followers\n",
      "\n",
      "@triciamap at 2016-10-11 21:08:57: RT @awzurcher: Assuming the email is legit, seems pretty clear Brazile tried to tip Clinton off to primary town hall question https://t.co/ with 151 followers\n",
      "\n",
      "@robgo84 at 2016-10-11 21:08:57: RT @maggieNYT: AZ and Georgia could be losses for the GOP, via @alexburnsNYT and @jmartNYT https://t.co/U96Nx7GU0P with 241 followers\n",
      "\n",
      "@unlewis at 2016-10-11 21:08:57: RT @washingtonpost: Donald Trumps free fall, according to cartoons https://t.co/1Xpoidg7at with 2453 followers\n",
      "\n",
      "@PatriciaAHenso1 at 2016-10-11 21:08:57: https://t.co/CEvKdrTNlE #rape #Hillary #Clinton #rally with 4543 followers\n",
      "\n",
      "@ktmerwin at 2016-10-11 21:08:57: RT @TheDailyShow: Tonight at 11/10c, Desi Lydic makes one last attempt to fact check Donald Trump. https://t.co/tLJLIadLfT with 27 followers\n",
      "\n",
      "@courtknee_ox at 2016-10-11 21:08:57: RT @goodygrace: I wore a sweater that says Fuck Donald Trump while a Canadian flag hung behind me &amp; everyone sang along to my songs. \n",
      "\n",
      "THAN with 46 followers\n",
      "\n",
      "@Chloe2229 at 2016-10-11 21:08:57: RT @LindaSuhler: Secret Service Officer Gary J. Byrne: The Hillary Clinton I Know Is a Complete Pathological Liar'\n",
      "#CrookedHillary  with 3136 followers\n",
      "\n",
      "@jmarshall8211 at 2016-10-11 21:08:58: RT @kellyz713: Allegations of rape levied against Donald Trump | Fusion @basshooker2 @jmarshall8211 @ginnykc @KcYahoo  https://t.co/YOpe1zy with 2228 followers\n",
      "\n",
      "@samuella at 2016-10-11 21:08:57: Higher standards to be 9 am #Today show  CoHost vs US President? #BillyBush Said To Exit Today. #Trump https://t.co/uLPE8hr0bX via @POPSUGAR with 580 followers\n",
      "\n",
      "@Mduncan55Duncan at 2016-10-11 21:08:58: RT @deplorable111: Hillary Clinton haunted by efforts to destroy Bill Clinton accusers - https://t.co/vmdE25Dvao - @washtimes with 355 followers\n",
      "\n",
      "@mmbbeba at 2016-10-11 21:08:58: RT @DebraMessing: Carrie Fisher says Donald Trump is absolutely a 'coke head' https://t.co/sfzS6a0vQ0 with 7254 followers\n",
      "\n",
      "@RightMinded8 at 2016-10-11 21:08:58: RT @realDonaldTrump: I hope people are looking at the disgraceful behavior of Hillary Clinton as exposed by WikiLeaks. She is unfit to run. with 314 followers\n",
      "\n",
      "@ckapilsagar at 2016-10-11 21:08:58: RT @ynotllewoh: Democrat turned Trump supporter @brunelldonald: Hillary Clinton is a Domestic Threat #debate #PodestaEmails2 https://t.co/i with 83 followers\n",
      "\n",
      "@MaryMarthaWall2 at 2016-10-11 21:08:58: RT @CNN: Glenn Beck: Hillary Clinton is a 'moral, ethical choice' for Republicans https://t.co/dEHWMQM5xb https://t.co/1Yj5znVdQO with 5 followers\n",
      "\n",
      "@LeahR77 at 2016-10-11 21:08:58: RT @col_nj: Globalist Hillary Clinton Doesn't Want To Be President of The United States. \n",
      "\n",
      "She Wants To Rule The Hemisphere  with 96601 followers\n",
      "\n",
      "@Brendag38323989 at 2016-10-11 21:08:58: RT @Johnnyyumaaz: WikiLeaks: Hillary Clinton Confidantes Mock Evangelicals and Conservative Catholics in Podesta Emails\n",
      "Read  more at  http with 717 followers\n",
      "\n",
      "@sophiagrace1802 at 2016-10-11 21:08:58: RT @ajplus: Donald Trump says he tried to f**k Nancy O'Dell once.\n",
      "\n",
      "Now she's getting a second chance to reject him. https://t.co/AYkziJTH with 150 followers\n",
      "\n",
      "@lefty_lucie at 2016-10-11 21:08:58: RT @rugratfarm: Really!?  OK Trump followers can vote the 28th!.  However, vote for Hillary on the regularily scheduled date or EAR  with 2087 followers\n",
      "\n",
      "@CCCINNC at 2016-10-11 21:08:58: @datrumpnation1 @CNN @MSNBC @FoxNews \n",
      "#HillaryHatesAmericans Rally\n",
      "Here's what happens when she goes Off-Script\n",
      "https://t.co/bbhpRfALnP with 3958 followers\n",
      "\n",
      "@Santiav3 at 2016-10-11 21:08:58: RT @ABC: State Dept. under Hillary Clinton gave special attention to 'friends of Bill' after Haiti quake in 2010.  with 146 followers\n",
      "\n",
      "@hamptons_harry at 2016-10-11 21:08:58: RT @TeaPartyCat: I'm a psychic. Let me prove it: in one month Donald Trump will lose the election and blame everyone but himself. with 198 followers\n",
      "\n",
      "@bloggerosity at 2016-10-11 21:08:58: RT @blakehounshell: Meet the unshackled Donald Trump. Same as the shackled Donald Trump. https://t.co/Y0digTu0y2 with 601 followers\n",
      "\n",
      "@elenaacamposs at 2016-10-11 21:08:59: RT @NATEGAWD: Mexican #JuJuOnThatBeat Challenge  YOU UGLY LIKE DONALD TRUMP  https://t.co/OpXB27xchb with 623 followers\n",
      "\n",
      "@hateful_heretic at 2016-10-11 21:08:59: RT @KurtSchlichter: Trump talks dirty - I don't care.\n",
      "Hillary Clinton used the SoS position to enrich her family - the media doesn't care. with 10276 followers\n",
      "\n",
      "@Envycoleee at 2016-10-11 21:08:59: RT @Reik44: Movahs    https://t.co/DPn31nRq8C with 722 followers\n",
      "\n",
      "@DaveAHamilton at 2016-10-11 21:08:59: RT @realDonaldTrump: Wow, @CNN Town Hall questions were given to Crooked Hillary Clinton in advance of big debates against Bernie Sanders. with 87 followers\n",
      "\n",
      "@Robinu2016 at 2016-10-11 21:08:59: RT @RARivette: #Hillary violated Nat. Security Laws. Prosecute immediately. #MAGA #tcot #ctot #ccot #pjnet #oip #nra #molonlabe #2A\n",
      "https:/ with 15 followers\n",
      "\n",
      "@WYVeteran at 2016-10-11 21:08:59: RT @ForQ2: @CharmaineYoest @cnn @wasalwaysEE @djred678 I was wondering if your ass hurts from pulling all that shit out of it regarding don with 2273 followers\n",
      "\n",
      "@Fernand18Austin at 2016-10-11 21:08:59: RT @CloydRivers: I'm not a Hillary Clinton email. https://t.co/kyvA0ng625 with 93 followers\n",
      "\n",
      "@Roltron at 2016-10-11 21:08:59: One of my friends changed our group chat icon to Donald Trump and I hate this so much. https://t.co/kEIh3scIKO with 747 followers\n",
      "\n",
      "@suannealbert182 at 2016-10-11 21:08:59: RT @realDonaldTrump: Wow, @CNN Town Hall questions were given to Crooked Hillary Clinton in advance of big debates against Bernie Sanders. with 8 followers\n",
      "\n",
      "@skinnyloveliam at 2016-10-11 21:09:00: RT @missokistic: trump: i do sex crimes\n",
      "beyonc: i reward consensual, enjoyable sex with cheddar biscuits\n",
      "trump supporters: CHECKMAT  with 4494 followers\n",
      "\n",
      "@takonomz at 2016-10-11 21:09:00: RT @missokistic: trump: i do sex crimes\n",
      "beyonc: i reward consensual, enjoyable sex with cheddar biscuits\n",
      "trump supporters: CHECKMAT  with 361 followers\n",
      "\n",
      "@Lordozz at 2016-10-11 21:09:00: RT @realDonaldTrump: Wow, @CNN Town Hall questions were given to Crooked Hillary Clinton in advance of big debates against Bernie Sanders. with 2902 followers\n",
      "\n",
      "@Scrapinlin at 2016-10-11 21:09:00: RT @col_nj: Globalist Hillary Clinton Doesn't Want To Be President of The United States. \n",
      "\n",
      "She Wants To Rule The Hemisphere  with 624 followers\n",
      "\n",
      "@RELvsSCI at 2016-10-11 21:08:59: \"Grab them by their pussy\" - Donald Trump\n",
      "\n",
      "#MakeAmericaGreatGropeAgain with 245 followers\n",
      "\n",
      "@CarlyASilver at 2016-10-11 21:09:00: RT @missokistic: trump: i do sex crimes\n",
      "beyonc: i reward consensual, enjoyable sex with cheddar biscuits\n",
      "trump supporters: CHECKMAT  with 2121 followers\n",
      "\n",
      "@essejbackwards at 2016-10-11 21:09:00: RT @asamjulian: Bernie Sanders supporter and lifelong democrat, now \"Trumpocrat\" @crickers announces one million former democrats t  with 20 followers\n",
      "\n",
      "@KingFeezle at 2016-10-11 21:09:00: RT @DrJillStein: Glenn Beck is promoting Hillary Clinton. What we're seeing is the birth of #TheNewRepublicanParty. https://t.co/WuTIjNngOI with 3458 followers\n",
      "\n",
      "@Gojira007X at 2016-10-11 21:09:00: RT @digby56: This is some very dangerous stuff. #authoritariansRus https://t.co/YGT7ZUJbT1 with 180 followers\n",
      "\n",
      "@THEQUEENISMAD at 2016-10-11 21:09:00: RT @immigrant4trump: .@BrunellDonald message to GOP establishment: Donald Trump is going nowhere but to Pennsylvania Avenue  with 2149 followers\n",
      "\n",
      "@AnitaS64 at 2016-10-11 21:09:00: RT @WSJ: Donald Trump unshackled, Samsung ends the Galaxy Note 7, Amazon dives deeper into groceries and more top stories https://t.co/Ss3j with 235 followers\n",
      "\n",
      "@MwangP01 at 2016-10-11 21:09:00: RT @BloombergTV: Hillary Clinton: We cant risk putting a climate change denier in the White House https://t.co/F2fkYIXok6 https://t.co/C1t with 662 followers\n",
      "\n",
      "@goldjet2005 at 2016-10-11 21:09:00: POLL: Should Donald Trump Bring Monica To The Final Debate? https://t.co/ywYalIa1fd with 897 followers\n",
      "\n",
      "@teriiphunn at 2016-10-11 21:09:00: RT @Andrugee: donald trump signs in front of homes are the scariest halloween decorations i've seen yet. good job with 368 followers\n",
      "\n",
      "@ibangel at 2016-10-11 21:09:00: Phil Robertson Says Hillary Clinton Is Living Proof Satan Is the 'Father of Lies'  Charisma News https://t.co/8htZf3dZei with 332 followers\n",
      "\n",
      "@alysuunn at 2016-10-11 21:09:00: Donald Trump either needs to drop out or drop dead, but somethings gotta give.  with 339 followers\n",
      "\n",
      "@Polityk0 at 2016-10-11 21:09:00: Trump goes on media crusade: Republican presidential nominee Donald Trump says e-mails hacked by Wikileaks sh... https://t.co/nTBuMLhKPC with 1446 followers\n",
      "\n",
      "@USCPforLiberty at 2016-10-11 21:09:00: Well said. \n",
      "\n",
      "\"Last night a friend claimed that Donald Trump wouldnt make a good president; he is brash, he is... https://t.co/3Q7i8GhrSG with 1215 followers\n",
      "\n",
      "@1ill_smkr79 at 2016-10-11 21:09:00: RT @wikileaks: Israel PM Netanyahu coms to Hillary Clinton according to private email from Israel ambassador #PodestaEmails2  with 474 followers\n",
      "\n",
      "@leroux_lesa at 2016-10-11 21:09:01: RT @realDonaldTrump: Wow, @CNN Town Hall questions were given to Crooked Hillary Clinton in advance of big debates against Bernie Sanders. with 0 followers\n",
      "\n",
      "@had2bleelee2 at 2016-10-11 21:09:01: Donald Trump To Do First Post-Debate Interview With A Man Accused Of Sexual Harassment https://t.co/ZbJCNFe82E with 24 followers\n",
      "\n",
      "@Robiienson at 2016-10-11 21:09:01: #followmejp Trump goes on media crusade: Republican presidential nominee Donald Trump says e-... https://t.co/rHGQisgQXK #teamfollowback with 455 followers\n",
      "\n",
      "@MathPhysics3 at 2016-10-11 21:09:01: RT @mitchellvii: Trumpocrats  Jaw Dropping Numbers of Democrats Supporting Donald Trump | The Last Refuge https://t.co/F9Lt6nl7O8 with 588 followers\n",
      "\n",
      "@QuitFreeLoading at 2016-10-11 21:09:01: NY Times NEVER had any Integrity &amp;Doesn't Comprehend the meaning of HONESTY! \n",
      "The NT Times is Horrifically Despicab https://t.co/DA7fJ7nfQK with 473 followers\n",
      "\n",
      "@Bluesmanfd1 at 2016-10-11 21:09:01: RT @LouDobbs: She's as bad as we feared. #MAGA #TrumpPence16 #TrumpTrain #Dobbs https://t.co/HDSApGaZIN with 619 followers\n",
      "\n",
      "@maikitas at 2016-10-11 21:09:01: Trump goes on media crusade: Republican presidential nominee Donald Trump says e-mails hacked by Wikileaks sh... https://t.co/iZ6jQUN4tb with 524 followers\n",
      "\n",
      "@SantiCoulon at 2016-10-11 21:09:01: RT @sjredmond: Voting for Donald Trump as a christian is like living in Denver and cheering for the Packers.  God may forgive you but your with 183 followers\n",
      "\n",
      "@DonSub at 2016-10-11 21:09:01: RT @KevinMKruse: As of today, the current vacancy on the Supreme Court is the longest that a seat has remained empty in 46 years. /1\n",
      "https: with 796 followers\n",
      "\n",
      "@carolfhandy at 2016-10-11 21:09:01: COUNT DOWN TO START MAKING USA GREAT AGAIN WITH DONALD J TRUMP: Only 27 days to go to ELECTION DAY \n",
      "Only 101 days to INAUGURATION DAY with 2907 followers\n",
      "\n",
      "@Joshua_eric_h at 2016-10-11 21:09:01: RT @TheDailyShow: Donald Trump in 2010: This is my boardroom. It's not a locker room. Maria, youre fired. \\_()_/ https://t.co/UlsP9Xj with 666 followers\n",
      "\n",
      "@Daddy_jayy at 2016-10-11 21:09:01: RT @REAL_LILJ300: IF DONALD TRUMP WINS THAT MEANS I GOTTA READ ALL TERMS AND CONDITIONS NOW  FUCK AROUND AND SIGN UP FOR SLAVERY  with 1300 followers\n",
      "\n",
      "@CyberNewspaper at 2016-10-11 21:09:01: Trump goes on media crusade: Republican presidential nominee Donald Trump says e-mails hacked by Wikileaks sh... https://t.co/6PJomyZhak with 20162 followers\n",
      "\n",
      "@Help_flanders at 2016-10-11 21:09:02: RT @realDonaldTrump: Wow, @CNN Town Hall questions were given to Crooked Hillary Clinton in advance of big debates against Bernie Sanders. with 930 followers\n",
      "\n",
      "@Eyes_of_justice at 2016-10-11 21:09:02: RT @0HOUR1__: Whose IDEA was it to Arm ISIS more than likely Huma Abedin convinced Hillary Clinton with just a whisper she overse  with 11945 followers\n",
      "\n",
      "@VitriJanet at 2016-10-11 21:09:02: More Crony Media? Hacked Clinton Emails Show CNBC Host John Harwood Constantly Complimenting Hillary https://t.co/RsnsZamdOx with 521 followers\n",
      "\n",
      "@jeffreyjonsmith at 2016-10-11 21:09:02: RT @JoyAnnReid: The mind just reels. https://t.co/gakvHuifGC with 2631 followers\n",
      "\n",
      "@boozynerd at 2016-10-11 21:09:02: RT @LaniKaiDuck: Donald Trumps Sad, Lonely Life https://t.co/2tmbhAFHvJ with 453 followers\n",
      "\n",
      "@emooreme at 2016-10-11 21:09:02: RT @donnabrazile: It's time to ask what has Trump ever done to help their states. He didn't pay any federal taxes for roads or infras  with 106 followers\n",
      "\n",
      "@DuffeeLogan at 2016-10-11 21:09:02: RT @CloydRivers: I'm not a Hillary Clinton email. https://t.co/kyvA0ng625 with 259 followers\n",
      "\n",
      "@RepublicanGal9 at 2016-10-11 21:09:02: Hillary Clinton's emails show she wants Americans \"Unaware and Compliant\" with 353 followers\n",
      "\n",
      "@HendrikKoster3 at 2016-10-11 21:09:02: Please leave Donald Trump alone on CNN. with 0 followers\n",
      "\n",
      "@donaldbroom at 2016-10-11 21:09:02: RT @Myzoo6C: #RhyanMustGo! https://t.co/DxsmxS0QaU with 18997 followers\n",
      "\n",
      "@69livliv at 2016-10-11 21:09:02: RT @Andrugee: donald trump signs in front of homes are the scariest halloween decorations i've seen yet. good job with 419 followers\n",
      "\n",
      "@cubans4you at 2016-10-11 21:09:02: RT @ChatRevolve: Hillary Clinton and Al Gore rally in Miami we spotted ambulance following Her motorcade as they left #MDC  with 932 followers\n",
      "\n",
      "@anylaurie16 at 2016-10-11 21:09:02: Hi Agent, an AMAZING way to really stick it to Speaker Ryan would be to vote for Hillary Clinton. https://t.co/4c9Kss5ICf with 45100 followers\n",
      "\n",
      "@Politics_for_u at 2016-10-11 21:09:02: Trump goes on media crusade: Republican presidential nominee Donald Trump says e-mails hacked by Wikileaks sh... https://t.co/CMwhMUlJWu with 9 followers\n",
      "\n",
      "@skaredgavynking at 2016-10-11 21:09:02: RT @Four_Pins: \"make sure u line up for friday's supreme drop\" https://t.co/p6J4C99H7L with 473 followers\n",
      "\n",
      "@cahulaan at 2016-10-11 21:09:03: Trump goes on media crusade: Republican presidential nominee Donald Trump says e-mails hacked by Wikileaks sh... https://t.co/8bK1wGAXOh with 1978 followers\n",
      "\n",
      "@gustadoloz at 2016-10-11 21:09:03: RT @Lrihendry: Bill Clinton affairs and assaults! If Hillary had not supported him, he could not have continued to attack this man  with 1485 followers\n",
      "\n",
      "@concett84069879 at 2016-10-11 21:09:03: RT @realDonaldTrump: Wow, @CNN Town Hall questions were given to Crooked Hillary Clinton in advance of big debates against Bernie Sanders. with 2 followers\n",
      "\n",
      "@IsaiOjeda4 at 2016-10-11 21:09:03: RT @MrDane1982: Sounds about right. Do you agree Donald Trump? https://t.co/Y0X43FG7Yh with 1247 followers\n",
      "\n",
      "@DarksunGoodbi at 2016-10-11 21:09:03: RT @Walldo: Donald Trump just told a crowd to vote on November 28th  https://t.co/I6JJFEoQKc with 22 followers\n",
      "\n",
      "@cathryncipolle3 at 2016-10-11 21:09:03: RT @realDonaldTrump: Wow, @CNN Town Hall questions were given to Crooked Hillary Clinton in advance of big debates against Bernie Sanders. with 2 followers\n",
      "\n",
      "@ZachSchmalz at 2016-10-11 21:09:03: RT @CloydRivers: I'm not a Hillary Clinton email. https://t.co/kyvA0ng625 with 100 followers\n",
      "\n",
      "@LeahR77 at 2016-10-11 21:09:03: RT @ChrisCoon4: Astroturf 'Outrage Machine' of Paid Trolls Floods Social Media to Counteract Negative News About Hillary Clinton | https:// with 96601 followers\n",
      "\n",
      "@alease_streiff at 2016-10-11 21:09:03: RT @realDonaldTrump: Wow, @CNN Town Hall questions were given to Crooked Hillary Clinton in advance of big debates against Bernie Sanders. with 1 followers\n",
      "\n",
      "@Nate_The_Gr8__ at 2016-10-11 21:09:03: RT @SebGorka: Hillary Clinton will endanger Americans\n",
      "\n",
      "HRC admits privately that we can't vet refugees but wants 500% increase\n",
      "\n",
      "https://t.c with 478 followers\n",
      "\n",
      "@KarinDunhill at 2016-10-11 21:09:03: RT @GregAbbott_TX: Hillary Clinton Team Bashes &amp; Degrades Catholics. Hillary must think Catholics are Deplorables too. https://t.co/xTeu9 with 614 followers\n",
      "\n",
      "@jttarpieyyy at 2016-10-11 21:09:03: RT @jefferybratcher: @seanhannity @mschlapp I'm so afraid that America is going to be lost forever. The media bias is un-American. Go Donal with 42 followers\n",
      "\n",
      "@Intenzekg at 2016-10-11 21:09:03: RT @BostonGlobe: Mike Huckabee compares Donald Trump to a \"Jaws\" character  who gets eaten https://t.co/HzHNl5caU4 https://t.co/JCPVikXmQw with 528 followers\n",
      "\n",
      "@Hollanjz at 2016-10-11 21:09:03: RT @maggieNYT: AZ and Georgia could be losses for the GOP, via @alexburnsNYT and @jmartNYT https://t.co/U96Nx7GU0P with 136 followers\n",
      "\n",
      "@DmsDonnasodano at 2016-10-11 21:09:03: RT @bfraser747:  #WakeUpAmerica \n",
      "\n",
      "#Hillary #Clinton doesn't care about #BlackLives She only cares about #BlackVotes\n",
      "\n",
      "#NeverHilary\n",
      "\n",
      "https: with 94 followers\n",
      "\n",
      "@cahulaan at 2016-10-11 21:09:03: Trump goes on media crusade: Republican presidential nominee Donald Trump says e-mails hacked by Wikileaks sh... https://t.co/vJbQ1TRAPk with 1978 followers\n",
      "\n",
      "@Macrotots at 2016-10-11 21:09:03: RT @michelekirkBPR: New leak shows Hillary Clinton exposed national security secrets during paid speech to foreign leaders  with 1653 followers\n",
      "\n",
      "@Willverine18 at 2016-10-11 21:09:03: Lmfao this isn't perfect this is the dumbest thing I've seen today https://t.co/yrcIoBAT9a with 205 followers\n",
      "\n",
      "@britneys_weave at 2016-10-11 21:09:04: RT @Walldo: Donald Trump just told a crowd to vote on November 28th  https://t.co/I6JJFEoQKc with 165 followers\n",
      "\n",
      "@Donald2012R at 2016-10-11 21:09:03: RT @IvyRupert: Crooked Hillary lie after lie! Snake! Open your eyes people! Trump Pence for President! https://t.co/3NbQwEflbG with 77 followers\n",
      "\n",
      "@PamJonesLiberty at 2016-10-11 21:09:04: This 3 Minute Video Of Hillary Clinton May Cost Her The Election  Spread This NOW YouTube: https://t.co/Hu0z9xisrS via @YouTube with 70 followers\n",
      "\n",
      "@ArrasateSuzy at 2016-10-11 21:09:04: RT @Walldo: Donald Trump just told a crowd to vote on November 28th  https://t.co/I6JJFEoQKc with 344 followers\n",
      "\n",
      "@WordofSearch at 2016-10-11 21:09:04: Obama, Al Gore urge voters to reject Donald Trump - Washington Times via https://t.co/yGfNmwrTA1 #topstories with 280 followers\n",
      "\n",
      "@freckledbutt at 2016-10-11 21:09:04: RT @aseitzwald: \"Hillary doesn't come down to Florida,\" Donald Trump says hours after Clinton campaigned in Florida. with 845 followers\n",
      "\n",
      "@Freedom4Ever65 at 2016-10-11 21:09:04: RT @theintercept: Behind closed doors, Hillary Clinton sympathized with Goldman Sachs over financial reform https://t.co/Ht5737Hk2F by @dda with 1435 followers\n",
      "\n",
      "@jjraegirl at 2016-10-11 21:09:04: RT @kenzideas: Wikileaks says Bill O'Reilly is on Hillary payroll!!! Donald Trump reacts to 2nd debate  on(10/11/2016) https://t.co/eiHVEk3 with 818 followers\n",
      "\n",
      "@d1017baby at 2016-10-11 21:09:04: RT @ValosTheComment: #HillaryHatesCatholics\n",
      "#HillaryHatesEvangelicals\n",
      "#HillaryHatesReligion\n",
      "#HillaryHatesAmericans\n",
      "#WikiLeaksMatter  with 104 followers\n",
      "\n",
      "@macamaw61 at 2016-10-11 21:09:04: RT @SmallBiz4Trump: Trump is right. I've never seen media so corrupt. They are DEM propagandists. #PodestaEmails exposes this. Trump fi  with 248 followers\n",
      "\n",
      "@PatDollard at 2016-10-11 21:09:04: WATCH: Yet Another Protester Yells \"Bill Clintons A Rapist!\" As Al Gore Watches During Hillary Rally https://t.co/cWpvvmCkGM with 53153 followers\n",
      "\n",
      "@kotuzak at 2016-10-11 21:09:04: Lying tht easy it's a talent (which U don't want) or an illness (which u don't want either) how often did she say n https://t.co/eqTwwqbJao with 1106 followers\n",
      "\n",
      "@556Ellwood at 2016-10-11 21:09:05: RT @realDonaldTrump: Wow, @CNN Town Hall questions were given to Crooked Hillary Clinton in advance of big debates against Bernie Sanders. with 42 followers\n",
      "\n",
      "@SandyRidge33 at 2016-10-11 21:09:05: RT @marian_maio: Emails: Hillary's State Dept Gave Special Access to 'VIPs' and 'Friends of Bill' Clinton After Haiti Earthquake  https://t with 624 followers\n",
      "\n",
      "@JohnGombei at 2016-10-11 21:09:04: RT @KS_1013: WP\n",
      "https://t.co/ with 2205 followers\n",
      "\n",
      "@jeffreywbruce at 2016-10-11 21:09:05: Uhhhhhhhhh huhhhhhhhhh #PTL #GodWorksInMysteriousWays https://t.co/8LnjqCy4iF with 432 followers\n",
      "\n",
      "@74f5c728e7d446d at 2016-10-11 21:09:05: RT @74f5c728e7d446d: https://t.co/3XK6aFx3rs\n",
      "SEPTEMBER 2,1987\n",
      "DONALD TRUMP  COMMANDER AND CHIEF\n",
      "LARRY KING EXCLUSIVE 1987.\n",
      "MAKE THIS VID  with 3484 followers\n",
      "\n",
      "@lotSnail at 2016-10-11 21:09:05: RT @Walldo: Donald Trump just told a crowd to vote on November 28th  https://t.co/I6JJFEoQKc with 365 followers\n",
      "\n",
      "@greatful_j at 2016-10-11 21:09:05: Amazing point! #ImWithHer https://t.co/k2LawOaS91 with 149 followers\n",
      "\n",
      "@Bevsjoy1 at 2016-10-11 21:09:05: RT @PrisonPlanet: Army of paid trolls give Hillary impression she has more support than she really does. https://t.co/iWn4nt2E3H with 652 followers\n",
      "\n",
      "@Neo99934 at 2016-10-11 21:09:05: @ChatRevolve @LindaSuhler @charlespm777  This is absolutely true ambulance found at Hillary Clinton small rally  with 4960 followers\n",
      "\n",
      "@ARM1976 at 2016-10-11 21:09:05: RT @WeNeedTrump: If you can watch this video and still vote for Hillary Clinton...there's something seriously wrong with you. \n",
      "\n",
      "Plea  with 1418 followers\n",
      "\n",
      "@REILLYfand at 2016-10-11 21:09:05: RT @JoeBlessett: Yes we have, it's wonderful https://t.co/wiVlz8G2xh with 45 followers\n",
      "\n",
      "@ShowNoQuarter at 2016-10-11 21:09:05: RT @immigrant4trump: .@BrunellDonald message to GOP establishment: Donald Trump is going nowhere but to Pennsylvania Avenue  with 2045 followers\n",
      "\n",
      "@chickendad02060 at 2016-10-11 21:09:05: RT @ChatRevolve: Hillary Clinton and Al Gore rally in Miami we spotted ambulance following Her motorcade as they left #MDC  with 309 followers\n",
      "\n",
      "@__SassyLadybug_ at 2016-10-11 21:09:05: RT @deplorable111: House GOP lays out case for Hillary Clinton perjury over emails - https://t.co/sZrPTRzHUL - @washtimes with 24 followers\n",
      "\n",
      "@uwxis at 2016-10-11 21:09:05: Also this man brought up Donald Trump ... I'm dead https://t.co/yY0sG2mgix with 854 followers\n",
      "\n",
      "@wanderlustdoww at 2016-10-11 21:09:06: RT @1942bs: Us: \"Donald Trump's comments about sexual assaulting women was disgusting\"\n",
      "\n",
      "Republicans: \"OKAY BUT RAP MUSIC AND BE  with 5526 followers\n",
      "\n",
      "@official_topboy at 2016-10-11 21:09:06: Trump goes on media crusade: Republican presidential nominee Donald Trump says e-mails hacked by Wikileaks sh... https://t.co/jEYyviqSXh with 436 followers\n",
      "\n",
      "@Chad62380 at 2016-10-11 21:09:06: RT @nranews: Hillary Clinton once said f**k you to a veteran who had been awarded the Purple Heart. #PodestaEmails2  with 135 followers\n",
      "\n",
      "@philiplopezz at 2016-10-11 21:09:06: A vote for Donald Trump is a grab to your pussy! Don't do it! with 305 followers\n",
      "\n",
      "@ElinaBeauchamp at 2016-10-11 21:09:06: Boom! https://t.co/q3aox0GKmw with 950 followers\n",
      "\n",
      "@MWillia672 at 2016-10-11 21:09:06: RT @TheCyancynic: More proof he's a Clinton plant and the entire election is a sham. https://t.co/Jwu8O0cELn with 3264 followers\n",
      "\n",
      "@kallinalexa at 2016-10-11 21:09:06: RT @realDonaldTrump: Wow, @CNN Town Hall questions were given to Crooked Hillary Clinton in advance of big debates against Bernie Sanders. with 52 followers\n",
      "\n",
      "@hofflaw at 2016-10-11 21:09:06: RT @RexHuppke: Tonight, Donald Trump told people at his rally to get out and vote on Nov. 28. Unbelievable. Everyone knows the real electio with 1708 followers\n",
      "\n",
      "@RockyinTX at 2016-10-11 21:09:07: RT @adirado29: MSNBC intelligence expert: WikiLeaks is releasing falsified emails not really from Hillary Clinton https://t.co/jKIV1lO5jf v with 2133 followers\n",
      "\n",
      "@iloveeyoujennay at 2016-10-11 21:09:07: RT @_conallkeenan: if you're voting for donald trump please unfollow me with 873 followers\n",
      "\n",
      "@moon_caputt at 2016-10-11 21:09:07: RT @MightyBusterBro: HILLARY CLINTON WINS!\n",
      "Packs #SCOTUS with\n",
      "Activist Liberal Judges\n",
      "GOOD LUCK #AMERICA\n",
      "\n",
      "#tcot #NeverHillary #LockHerUp ht with 3160 followers\n",
      "\n",
      "@heythurrbrian at 2016-10-11 21:09:07: RT @trap_lawdd: fudge donald trump and his minions. they have been sent here to destroy us. vote 4 Hillary https://t.co/YOfuxPatZG with 104 followers\n",
      "\n",
      "@ctspangler86 at 2016-10-11 21:09:07: When a coworker is trying to convince me that Hillary Clinton isn't a piece of shit.  This bitch doesn't care about people.  #powerhungry with 16 followers\n",
      "\n",
      "@Methone at 2016-10-11 21:09:07: Donald Trump im TV: \"Ich war bisher sehr nett\" https://t.co/vPH6GOt6tC #DieNachrichten with 301411 followers\n",
      "\n",
      "@Lordozz at 2016-10-11 21:09:07: Retweeted Donald J. Trump (@realDonaldTrump):\n",
      "\n",
      "Wow, @CNN Town Hall questions were given to Crooked Hillary... https://t.co/Epo3wbeRTi with 2902 followers\n",
      "\n",
      "@PNWvoter at 2016-10-11 21:09:07: Good question @JoyVBehar well?? https://t.co/AayqEQwsvV with 269 followers\n",
      "\n",
      "@GeneralNewsUS at 2016-10-11 21:09:07: President Barack Obama Ties Donald Trump to Dark History in Greensboro #GeneralNews https://t.co/Sl06iRIugh with 611 followers\n",
      "\n",
      "@barbee_liz at 2016-10-11 21:09:07: #PodestaEmails3 #CrookedHillary https://t.co/sKfQDTLbWD with 147 followers\n",
      "\n",
      "@JosephBolden3 at 2016-10-11 21:09:07: Oms  https://t.co/PPgw9IU56j with 217 followers\n",
      "\n",
      "@normagilbert54 at 2016-10-11 21:09:07: WIKILEAKS: Hillary Clinton Speeches Include Cues Being Told When To Smile..Nothing Is Natural About Her!!\n",
      "https://t.co/fZ48fLhvOJ with 1085 followers\n",
      "\n",
      "@care4democracy at 2016-10-11 21:09:07: MGM said they have them &amp; Burnett doesn't have access to them. (likely story)  But if anyone can get them, she will. https://t.co/kgvOBAgyc7 with 1581 followers\n",
      "\n",
      "@mercurygirl7 at 2016-10-11 21:09:08: RT @Green_Footballs: When you see Mark Halperin defending Donald Trump on television, acting like a journalist, remember this. https://t.co with 1225 followers\n",
      "\n",
      "@_dessct at 2016-10-11 21:09:08: RT @nadiemepregunto: This is so funny  \n",
      "(I've Had) The Time of My Life -Hilary Clinton featuring Donald Trump #thevoice #XFactor  with 868 followers\n",
      "\n",
      "@bernie_bro_2019 at 2016-10-11 21:09:08: RT @_Makada_: WIKILEAKS: Emails show Hillary Clinton selling access to human rights-abusing govt of Morocco.\n",
      "\n",
      "#PodestaEmails3 \n",
      "https://t.co with 47 followers\n",
      "\n",
      "@MauriaunaKeonse at 2016-10-11 21:09:08: RT @kchamomile: They done dragged Beyonce into this Donald Trump tape mess. with 294 followers\n",
      "\n",
      "@johnabeasley211 at 2016-10-11 21:09:08: RT @realDonaldTrump: Wow, @CNN Town Hall questions were given to Crooked Hillary Clinton in advance of big debates against Bernie Sanders. with 6 followers\n",
      "\n",
      "@minilyra at 2016-10-11 21:09:08: RT @neilhimself: Beyond parody. Beyond desperation.  I'm now feeling sorry for anyone involved in poor Donald Trump's sad affairs. https:// with 60 followers\n",
      "\n",
      "@candace_raeann at 2016-10-11 21:09:08: RT @PrisonPlanet: I'm posting this again for all the media hacks who are busy today smearing a rape victim in defense of Hillary Clin  with 647 followers\n",
      "\n",
      "@erahmer at 2016-10-11 21:09:08: RT @davidsirota: BREAKING: Emails show Clinton moved to avoid helping single-payer measure as healthcare cash flowed to her campaign https: with 1108 followers\n",
      "\n",
      "@normagilbert54 at 2016-10-11 21:09:08: WIKILEAKS: Hillary Clinton Speeches Include Cues Being Told When To Smile..Nothing Is Natural About Her!!\n",
      "https://t.co/WBpDwoPrrX with 1085 followers\n",
      "\n",
      "@MgicSurf at 2016-10-11 21:09:08: RT @darth: when trump tries to claim it was a rigged election on the day after election day every body just tweet this to him  https://t.c with 429 followers\n",
      "\n",
      "@GroseAndrew at 2016-10-11 21:09:08: Trump: \"Nobody has more respect for women than I do!\"\n",
      "Trump Advisor: \"Donald... eat a Snickers\"\n",
      "#Trump #Election2016 with 4827 followers\n",
      "\n",
      "@Yvonne4166 at 2016-10-11 21:09:08: RT @Cosmopolitan: These millennial women staged a sit-in at the RNC headquarters to protest Donald Trump https://t.co/2742RPNVOr https://t. with 188 followers\n",
      "\n",
      "@AliceBluegown1 at 2016-10-11 21:09:08: RT @news_dwelling: Kendzior summarized problems with MSNBC, news media, GOP for creating Trump in just minutes: https://t.co/eneCW2nzzt htt with 625 followers\n",
      "\n",
      "@TooMuchPeyote at 2016-10-11 21:09:08: RT @CloydRivers: I'm not a Hillary Clinton email. https://t.co/kyvA0ng625 with 313 followers\n",
      "\n",
      "@sevenish at 2016-10-11 21:09:08: cool. https://t.co/ecIPh77EE6 with 2861 followers\n",
      "\n",
      "@Teresa_H_ at 2016-10-11 21:09:09: RT @AtomasVictory: THE PLANNED SABOTAGE OF DONALD TRUMP - RT !\n",
      "\n",
      "How &amp; Why (Part 1 of 3)\n",
      "\n",
      "I will be posting related videos for part 2 &amp;  with 4336 followers\n",
      "\n",
      "@greatful_j at 2016-10-11 21:09:09: RT @Darren32895836: If Barnyard Behar or Obama's daughters were raped by Bill Clinton wud she still call them tramps???? Hillary Clinton ht with 149 followers\n",
      "\n",
      "@MickleKevin at 2016-10-11 21:09:09: RT @col_nj: Hillary Clinton HATES EVERYDAY AMERICANS\n",
      "\n",
      "Lets Show Her The Feeling Is Very Much Mutual and #VoteTrump  with 26 followers\n",
      "\n",
      "@Okie08 at 2016-10-11 21:09:09: RT @Byrlyne: #Hillary BIGOTRY I am Catholic &amp; shocked by this. Every Christian should be. Why hasn't #Hillary fired these 2?  https://t.co/ with 3514 followers\n",
      "\n",
      "@modcon02 at 2016-10-11 21:09:09: @neilhimself is a far nicer fellow than I. Personally, I can't find any sorrow for the people involved in The Dump' https://t.co/5siu1IShN8 with 209 followers\n",
      "\n",
      "@PerZunilda at 2016-10-11 21:09:09: RT @thenation: People like Donald Trump are the reason locker rooms can become an incubator of rape culture. https://t.co/aWyoEc6Um1 with 3 followers\n",
      "\n",
      "@SamanthaCotter9 at 2016-10-11 21:09:09: I added a video to a @YouTube playlist https://t.co/XT55TXnh7C Hillary Clinton: Im the Last Thing Standing Between You and the with 524 followers\n",
      "\n",
      "@lori_konecki at 2016-10-11 21:09:09: @BreitbartNews @LindaSuhler the comments below the article are VERY interesting. \n",
      "https://t.co/bDNk4azd6u https://t.co/pOXVTrTgTx with 1047 followers\n",
      "\n",
      "@andreathegiant at 2016-10-11 21:09:09: RT @JohnDingell: RT if you're more scared of a Donald Trump presidency than you are of ISIS. with 328 followers\n",
      "\n",
      "@tinyagentscully at 2016-10-11 21:09:09: RT @ALlClAFLORRICK: no one tell them https://t.co/dPVlaXDhci with 813 followers\n",
      "\n",
      "@jeffries_anne at 2016-10-11 21:09:09: RT @jeremyscahill: As Secretary of State, Hillary Clinton was a major player in expanding CIA and JSOC bombing in Yemen. This \"Saudi\" massa with 1053 followers\n",
      "\n",
      "@ludacristiano at 2016-10-11 21:09:09: Trump urges Floridians to rock the vote on Nov. 28. Trouble is ... Election Day is Nov. 8 https://t.co/gglb0XYm8G with 1025 followers\n",
      "\n",
      "@DJTmaga at 2016-10-11 21:09:10: Ok BuzzFeed https://t.co/jhrqJK634p with 379 followers\n",
      "\n",
      "@FoxLiesChannel at 2016-10-11 21:09:10: Election Update: Women Are Defeating Donald Trump https://t.co/xi3IxWPlcx with 1210 followers\n",
      "\n"
     ]
    },
    {
     "ename": "KeyboardInterrupt",
     "evalue": "",
     "output_type": "error",
     "traceback": [
      "\u001b[0;31m---------------------------------------------------------------------------\u001b[0m",
      "\u001b[0;31mKeyboardInterrupt\u001b[0m                         Traceback (most recent call last)",
      "\u001b[0;32m<ipython-input-65-f8bfe48d003b>\u001b[0m in \u001b[0;36m<module>\u001b[0;34m()\u001b[0m\n\u001b[1;32m     29\u001b[0m     \u001b[0mstream\u001b[0m\u001b[0;34m.\u001b[0m\u001b[0mfilter\u001b[0m\u001b[0;34m(\u001b[0m\u001b[0mtrack\u001b[0m\u001b[0;34m=\u001b[0m\u001b[0mtags_to_follow\u001b[0m\u001b[0;34m)\u001b[0m\u001b[0;34m\u001b[0m\u001b[0m\n\u001b[1;32m     30\u001b[0m \u001b[0;34m\u001b[0m\u001b[0m\n\u001b[0;32m---> 31\u001b[0;31m \u001b[0mbegin_live_feed\u001b[0m\u001b[0;34m(\u001b[0m\u001b[0;34m[\u001b[0m\u001b[0;34m'donald trump'\u001b[0m\u001b[0;34m,\u001b[0m \u001b[0;34m'hillary clinton'\u001b[0m\u001b[0;34m]\u001b[0m\u001b[0;34m)\u001b[0m\u001b[0;34m\u001b[0m\u001b[0m\n\u001b[0m\u001b[1;32m     32\u001b[0m \u001b[0;31m# this is an example use, if you create a list of words and phrases,\u001b[0m\u001b[0;34m\u001b[0m\u001b[0;34m\u001b[0m\u001b[0m\n\u001b[1;32m     33\u001b[0m \u001b[0;31m# a live stream of tweets about them will show up\u001b[0m\u001b[0;34m\u001b[0m\u001b[0;34m\u001b[0m\u001b[0m\n",
      "\u001b[0;32m<ipython-input-65-f8bfe48d003b>\u001b[0m in \u001b[0;36mbegin_live_feed\u001b[0;34m(tags_to_follow)\u001b[0m\n\u001b[1;32m     27\u001b[0m     \u001b[0mauth\u001b[0m\u001b[0;34m.\u001b[0m\u001b[0mset_access_token\u001b[0m\u001b[0;34m(\u001b[0m\u001b[0maccess_token\u001b[0m\u001b[0;34m,\u001b[0m \u001b[0maccess_secret\u001b[0m\u001b[0;34m)\u001b[0m\u001b[0;34m\u001b[0m\u001b[0m\n\u001b[1;32m     28\u001b[0m     \u001b[0mstream\u001b[0m \u001b[0;34m=\u001b[0m \u001b[0mtweepy\u001b[0m\u001b[0;34m.\u001b[0m\u001b[0mStream\u001b[0m\u001b[0;34m(\u001b[0m\u001b[0mauth\u001b[0m\u001b[0;34m,\u001b[0m \u001b[0ml\u001b[0m\u001b[0;34m)\u001b[0m\u001b[0;34m\u001b[0m\u001b[0m\n\u001b[0;32m---> 29\u001b[0;31m     \u001b[0mstream\u001b[0m\u001b[0;34m.\u001b[0m\u001b[0mfilter\u001b[0m\u001b[0;34m(\u001b[0m\u001b[0mtrack\u001b[0m\u001b[0;34m=\u001b[0m\u001b[0mtags_to_follow\u001b[0m\u001b[0;34m)\u001b[0m\u001b[0;34m\u001b[0m\u001b[0m\n\u001b[0m\u001b[1;32m     30\u001b[0m \u001b[0;34m\u001b[0m\u001b[0m\n\u001b[1;32m     31\u001b[0m \u001b[0mbegin_live_feed\u001b[0m\u001b[0;34m(\u001b[0m\u001b[0;34m[\u001b[0m\u001b[0;34m'donald trump'\u001b[0m\u001b[0;34m,\u001b[0m \u001b[0;34m'hillary clinton'\u001b[0m\u001b[0;34m]\u001b[0m\u001b[0;34m)\u001b[0m\u001b[0;34m\u001b[0m\u001b[0m\n",
      "\u001b[0;32m/Users/jenny/anaconda/lib/python2.7/site-packages/tweepy/streaming.pyc\u001b[0m in \u001b[0;36mfilter\u001b[0;34m(self, follow, track, async, locations, stall_warnings, languages, encoding, filter_level)\u001b[0m\n\u001b[1;32m    443\u001b[0m         \u001b[0mself\u001b[0m\u001b[0;34m.\u001b[0m\u001b[0msession\u001b[0m\u001b[0;34m.\u001b[0m\u001b[0mparams\u001b[0m \u001b[0;34m=\u001b[0m \u001b[0;34m{\u001b[0m\u001b[0;34m'delimited'\u001b[0m\u001b[0;34m:\u001b[0m \u001b[0;34m'length'\u001b[0m\u001b[0;34m}\u001b[0m\u001b[0;34m\u001b[0m\u001b[0m\n\u001b[1;32m    444\u001b[0m         \u001b[0mself\u001b[0m\u001b[0;34m.\u001b[0m\u001b[0mhost\u001b[0m \u001b[0;34m=\u001b[0m \u001b[0;34m'stream.twitter.com'\u001b[0m\u001b[0;34m\u001b[0m\u001b[0m\n\u001b[0;32m--> 445\u001b[0;31m         \u001b[0mself\u001b[0m\u001b[0;34m.\u001b[0m\u001b[0m_start\u001b[0m\u001b[0;34m(\u001b[0m\u001b[0masync\u001b[0m\u001b[0;34m)\u001b[0m\u001b[0;34m\u001b[0m\u001b[0m\n\u001b[0m\u001b[1;32m    446\u001b[0m \u001b[0;34m\u001b[0m\u001b[0m\n\u001b[1;32m    447\u001b[0m     def sitestream(self, follow, stall_warnings=False,\n",
      "\u001b[0;32m/Users/jenny/anaconda/lib/python2.7/site-packages/tweepy/streaming.pyc\u001b[0m in \u001b[0;36m_start\u001b[0;34m(self, async)\u001b[0m\n\u001b[1;32m    359\u001b[0m             \u001b[0mself\u001b[0m\u001b[0;34m.\u001b[0m\u001b[0m_thread\u001b[0m\u001b[0;34m.\u001b[0m\u001b[0mstart\u001b[0m\u001b[0;34m(\u001b[0m\u001b[0;34m)\u001b[0m\u001b[0;34m\u001b[0m\u001b[0m\n\u001b[1;32m    360\u001b[0m         \u001b[0;32melse\u001b[0m\u001b[0;34m:\u001b[0m\u001b[0;34m\u001b[0m\u001b[0m\n\u001b[0;32m--> 361\u001b[0;31m             \u001b[0mself\u001b[0m\u001b[0;34m.\u001b[0m\u001b[0m_run\u001b[0m\u001b[0;34m(\u001b[0m\u001b[0;34m)\u001b[0m\u001b[0;34m\u001b[0m\u001b[0m\n\u001b[0m\u001b[1;32m    362\u001b[0m \u001b[0;34m\u001b[0m\u001b[0m\n\u001b[1;32m    363\u001b[0m     \u001b[0;32mdef\u001b[0m \u001b[0mon_closed\u001b[0m\u001b[0;34m(\u001b[0m\u001b[0mself\u001b[0m\u001b[0;34m,\u001b[0m \u001b[0mresp\u001b[0m\u001b[0;34m)\u001b[0m\u001b[0;34m:\u001b[0m\u001b[0;34m\u001b[0m\u001b[0m\n",
      "\u001b[0;32m/Users/jenny/anaconda/lib/python2.7/site-packages/tweepy/streaming.pyc\u001b[0m in \u001b[0;36m_run\u001b[0;34m(self)\u001b[0m\n\u001b[1;32m    261\u001b[0m                     \u001b[0mself\u001b[0m\u001b[0;34m.\u001b[0m\u001b[0msnooze_time\u001b[0m \u001b[0;34m=\u001b[0m \u001b[0mself\u001b[0m\u001b[0;34m.\u001b[0m\u001b[0msnooze_time_step\u001b[0m\u001b[0;34m\u001b[0m\u001b[0m\n\u001b[1;32m    262\u001b[0m                     \u001b[0mself\u001b[0m\u001b[0;34m.\u001b[0m\u001b[0mlistener\u001b[0m\u001b[0;34m.\u001b[0m\u001b[0mon_connect\u001b[0m\u001b[0;34m(\u001b[0m\u001b[0;34m)\u001b[0m\u001b[0;34m\u001b[0m\u001b[0m\n\u001b[0;32m--> 263\u001b[0;31m                     \u001b[0mself\u001b[0m\u001b[0;34m.\u001b[0m\u001b[0m_read_loop\u001b[0m\u001b[0;34m(\u001b[0m\u001b[0mresp\u001b[0m\u001b[0;34m)\u001b[0m\u001b[0;34m\u001b[0m\u001b[0m\n\u001b[0m\u001b[1;32m    264\u001b[0m             \u001b[0;32mexcept\u001b[0m \u001b[0;34m(\u001b[0m\u001b[0mTimeout\u001b[0m\u001b[0;34m,\u001b[0m \u001b[0mssl\u001b[0m\u001b[0;34m.\u001b[0m\u001b[0mSSLError\u001b[0m\u001b[0;34m)\u001b[0m \u001b[0;32mas\u001b[0m \u001b[0mexc\u001b[0m\u001b[0;34m:\u001b[0m\u001b[0;34m\u001b[0m\u001b[0m\n\u001b[1;32m    265\u001b[0m                 \u001b[0;31m# This is still necessary, as a SSLError can actually be\u001b[0m\u001b[0;34m\u001b[0m\u001b[0;34m\u001b[0m\u001b[0m\n",
      "\u001b[0;32m/Users/jenny/anaconda/lib/python2.7/site-packages/tweepy/streaming.pyc\u001b[0m in \u001b[0;36m_read_loop\u001b[0;34m(self, resp)\u001b[0m\n\u001b[1;32m    311\u001b[0m             \u001b[0mlength\u001b[0m \u001b[0;34m=\u001b[0m \u001b[0;36m0\u001b[0m\u001b[0;34m\u001b[0m\u001b[0m\n\u001b[1;32m    312\u001b[0m             \u001b[0;32mwhile\u001b[0m \u001b[0;32mnot\u001b[0m \u001b[0mresp\u001b[0m\u001b[0;34m.\u001b[0m\u001b[0mraw\u001b[0m\u001b[0;34m.\u001b[0m\u001b[0mclosed\u001b[0m\u001b[0;34m:\u001b[0m\u001b[0;34m\u001b[0m\u001b[0m\n\u001b[0;32m--> 313\u001b[0;31m                 \u001b[0mline\u001b[0m \u001b[0;34m=\u001b[0m \u001b[0mbuf\u001b[0m\u001b[0;34m.\u001b[0m\u001b[0mread_line\u001b[0m\u001b[0;34m(\u001b[0m\u001b[0;34m)\u001b[0m\u001b[0;34m.\u001b[0m\u001b[0mstrip\u001b[0m\u001b[0;34m(\u001b[0m\u001b[0;34m)\u001b[0m\u001b[0;34m\u001b[0m\u001b[0m\n\u001b[0m\u001b[1;32m    314\u001b[0m                 \u001b[0;32mif\u001b[0m \u001b[0;32mnot\u001b[0m \u001b[0mline\u001b[0m\u001b[0;34m:\u001b[0m\u001b[0;34m\u001b[0m\u001b[0m\n\u001b[1;32m    315\u001b[0m                     \u001b[0mself\u001b[0m\u001b[0;34m.\u001b[0m\u001b[0mlistener\u001b[0m\u001b[0;34m.\u001b[0m\u001b[0mkeep_alive\u001b[0m\u001b[0;34m(\u001b[0m\u001b[0;34m)\u001b[0m  \u001b[0;31m# keep-alive new lines are expected\u001b[0m\u001b[0;34m\u001b[0m\u001b[0m\n",
      "\u001b[0;32m/Users/jenny/anaconda/lib/python2.7/site-packages/tweepy/streaming.pyc\u001b[0m in \u001b[0;36mread_line\u001b[0;34m(self, sep)\u001b[0m\n\u001b[1;32m    177\u001b[0m             \u001b[0;32melse\u001b[0m\u001b[0;34m:\u001b[0m\u001b[0;34m\u001b[0m\u001b[0m\n\u001b[1;32m    178\u001b[0m                 \u001b[0mstart\u001b[0m \u001b[0;34m=\u001b[0m \u001b[0mlen\u001b[0m\u001b[0;34m(\u001b[0m\u001b[0mself\u001b[0m\u001b[0;34m.\u001b[0m\u001b[0m_buffer\u001b[0m\u001b[0;34m)\u001b[0m\u001b[0;34m\u001b[0m\u001b[0m\n\u001b[0;32m--> 179\u001b[0;31m             \u001b[0mself\u001b[0m\u001b[0;34m.\u001b[0m\u001b[0m_buffer\u001b[0m \u001b[0;34m+=\u001b[0m \u001b[0mself\u001b[0m\u001b[0;34m.\u001b[0m\u001b[0m_stream\u001b[0m\u001b[0;34m.\u001b[0m\u001b[0mread\u001b[0m\u001b[0;34m(\u001b[0m\u001b[0mself\u001b[0m\u001b[0;34m.\u001b[0m\u001b[0m_chunk_size\u001b[0m\u001b[0;34m)\u001b[0m\u001b[0;34m\u001b[0m\u001b[0m\n\u001b[0m\u001b[1;32m    180\u001b[0m \u001b[0;34m\u001b[0m\u001b[0m\n\u001b[1;32m    181\u001b[0m     \u001b[0;32mdef\u001b[0m \u001b[0m_pop\u001b[0m\u001b[0;34m(\u001b[0m\u001b[0mself\u001b[0m\u001b[0;34m,\u001b[0m \u001b[0mlength\u001b[0m\u001b[0;34m)\u001b[0m\u001b[0;34m:\u001b[0m\u001b[0;34m\u001b[0m\u001b[0m\n",
      "\u001b[0;32m/Users/jenny/anaconda/lib/python2.7/site-packages/requests/packages/urllib3/response.pyc\u001b[0m in \u001b[0;36mread\u001b[0;34m(self, amt, decode_content, cache_content)\u001b[0m\n\u001b[1;32m    299\u001b[0m             \u001b[0;32melse\u001b[0m\u001b[0;34m:\u001b[0m\u001b[0;34m\u001b[0m\u001b[0m\n\u001b[1;32m    300\u001b[0m                 \u001b[0mcache_content\u001b[0m \u001b[0;34m=\u001b[0m \u001b[0mFalse\u001b[0m\u001b[0;34m\u001b[0m\u001b[0m\n\u001b[0;32m--> 301\u001b[0;31m                 \u001b[0mdata\u001b[0m \u001b[0;34m=\u001b[0m \u001b[0mself\u001b[0m\u001b[0;34m.\u001b[0m\u001b[0m_fp\u001b[0m\u001b[0;34m.\u001b[0m\u001b[0mread\u001b[0m\u001b[0;34m(\u001b[0m\u001b[0mamt\u001b[0m\u001b[0;34m)\u001b[0m\u001b[0;34m\u001b[0m\u001b[0m\n\u001b[0m\u001b[1;32m    302\u001b[0m                 \u001b[0;32mif\u001b[0m \u001b[0mamt\u001b[0m \u001b[0;34m!=\u001b[0m \u001b[0;36m0\u001b[0m \u001b[0;32mand\u001b[0m \u001b[0;32mnot\u001b[0m \u001b[0mdata\u001b[0m\u001b[0;34m:\u001b[0m  \u001b[0;31m# Platform-specific: Buggy versions of Python.\u001b[0m\u001b[0;34m\u001b[0m\u001b[0m\n\u001b[1;32m    303\u001b[0m                     \u001b[0;31m# Close the connection when no data is returned\u001b[0m\u001b[0;34m\u001b[0m\u001b[0;34m\u001b[0m\u001b[0m\n",
      "\u001b[0;32m/Users/jenny/anaconda/lib/python2.7/httplib.pyc\u001b[0m in \u001b[0;36mread\u001b[0;34m(self, amt)\u001b[0m\n\u001b[1;32m    586\u001b[0m \u001b[0;34m\u001b[0m\u001b[0m\n\u001b[1;32m    587\u001b[0m         \u001b[0;32mif\u001b[0m \u001b[0mself\u001b[0m\u001b[0;34m.\u001b[0m\u001b[0mchunked\u001b[0m\u001b[0;34m:\u001b[0m\u001b[0;34m\u001b[0m\u001b[0m\n\u001b[0;32m--> 588\u001b[0;31m             \u001b[0;32mreturn\u001b[0m \u001b[0mself\u001b[0m\u001b[0;34m.\u001b[0m\u001b[0m_read_chunked\u001b[0m\u001b[0;34m(\u001b[0m\u001b[0mamt\u001b[0m\u001b[0;34m)\u001b[0m\u001b[0;34m\u001b[0m\u001b[0m\n\u001b[0m\u001b[1;32m    589\u001b[0m \u001b[0;34m\u001b[0m\u001b[0m\n\u001b[1;32m    590\u001b[0m         \u001b[0;32mif\u001b[0m \u001b[0mamt\u001b[0m \u001b[0;32mis\u001b[0m \u001b[0mNone\u001b[0m\u001b[0;34m:\u001b[0m\u001b[0;34m\u001b[0m\u001b[0m\n",
      "\u001b[0;32m/Users/jenny/anaconda/lib/python2.7/httplib.pyc\u001b[0m in \u001b[0;36m_read_chunked\u001b[0;34m(self, amt)\u001b[0m\n\u001b[1;32m    628\u001b[0m         \u001b[0;32mwhile\u001b[0m \u001b[0mTrue\u001b[0m\u001b[0;34m:\u001b[0m\u001b[0;34m\u001b[0m\u001b[0m\n\u001b[1;32m    629\u001b[0m             \u001b[0;32mif\u001b[0m \u001b[0mchunk_left\u001b[0m \u001b[0;32mis\u001b[0m \u001b[0mNone\u001b[0m\u001b[0;34m:\u001b[0m\u001b[0;34m\u001b[0m\u001b[0m\n\u001b[0;32m--> 630\u001b[0;31m                 \u001b[0mline\u001b[0m \u001b[0;34m=\u001b[0m \u001b[0mself\u001b[0m\u001b[0;34m.\u001b[0m\u001b[0mfp\u001b[0m\u001b[0;34m.\u001b[0m\u001b[0mreadline\u001b[0m\u001b[0;34m(\u001b[0m\u001b[0m_MAXLINE\u001b[0m \u001b[0;34m+\u001b[0m \u001b[0;36m1\u001b[0m\u001b[0;34m)\u001b[0m\u001b[0;34m\u001b[0m\u001b[0m\n\u001b[0m\u001b[1;32m    631\u001b[0m                 \u001b[0;32mif\u001b[0m \u001b[0mlen\u001b[0m\u001b[0;34m(\u001b[0m\u001b[0mline\u001b[0m\u001b[0;34m)\u001b[0m \u001b[0;34m>\u001b[0m \u001b[0m_MAXLINE\u001b[0m\u001b[0;34m:\u001b[0m\u001b[0;34m\u001b[0m\u001b[0m\n\u001b[1;32m    632\u001b[0m                     \u001b[0;32mraise\u001b[0m \u001b[0mLineTooLong\u001b[0m\u001b[0;34m(\u001b[0m\u001b[0;34m\"chunk size\"\u001b[0m\u001b[0;34m)\u001b[0m\u001b[0;34m\u001b[0m\u001b[0m\n",
      "\u001b[0;32m/Users/jenny/anaconda/lib/python2.7/socket.pyc\u001b[0m in \u001b[0;36mreadline\u001b[0;34m(self, size)\u001b[0m\n\u001b[1;32m    478\u001b[0m             \u001b[0;32mwhile\u001b[0m \u001b[0mTrue\u001b[0m\u001b[0;34m:\u001b[0m\u001b[0;34m\u001b[0m\u001b[0m\n\u001b[1;32m    479\u001b[0m                 \u001b[0;32mtry\u001b[0m\u001b[0;34m:\u001b[0m\u001b[0;34m\u001b[0m\u001b[0m\n\u001b[0;32m--> 480\u001b[0;31m                     \u001b[0mdata\u001b[0m \u001b[0;34m=\u001b[0m \u001b[0mself\u001b[0m\u001b[0;34m.\u001b[0m\u001b[0m_sock\u001b[0m\u001b[0;34m.\u001b[0m\u001b[0mrecv\u001b[0m\u001b[0;34m(\u001b[0m\u001b[0mself\u001b[0m\u001b[0;34m.\u001b[0m\u001b[0m_rbufsize\u001b[0m\u001b[0;34m)\u001b[0m\u001b[0;34m\u001b[0m\u001b[0m\n\u001b[0m\u001b[1;32m    481\u001b[0m                 \u001b[0;32mexcept\u001b[0m \u001b[0merror\u001b[0m\u001b[0;34m,\u001b[0m \u001b[0me\u001b[0m\u001b[0;34m:\u001b[0m\u001b[0;34m\u001b[0m\u001b[0m\n\u001b[1;32m    482\u001b[0m                     \u001b[0;32mif\u001b[0m \u001b[0me\u001b[0m\u001b[0;34m.\u001b[0m\u001b[0margs\u001b[0m\u001b[0;34m[\u001b[0m\u001b[0;36m0\u001b[0m\u001b[0;34m]\u001b[0m \u001b[0;34m==\u001b[0m \u001b[0mEINTR\u001b[0m\u001b[0;34m:\u001b[0m\u001b[0;34m\u001b[0m\u001b[0m\n",
      "\u001b[0;32m/Users/jenny/anaconda/lib/python2.7/ssl.pyc\u001b[0m in \u001b[0;36mrecv\u001b[0;34m(self, buflen, flags)\u001b[0m\n\u001b[1;32m    754\u001b[0m                     \u001b[0;34m\"non-zero flags not allowed in calls to recv() on %s\"\u001b[0m \u001b[0;34m%\u001b[0m\u001b[0;34m\u001b[0m\u001b[0m\n\u001b[1;32m    755\u001b[0m                     self.__class__)\n\u001b[0;32m--> 756\u001b[0;31m             \u001b[0;32mreturn\u001b[0m \u001b[0mself\u001b[0m\u001b[0;34m.\u001b[0m\u001b[0mread\u001b[0m\u001b[0;34m(\u001b[0m\u001b[0mbuflen\u001b[0m\u001b[0;34m)\u001b[0m\u001b[0;34m\u001b[0m\u001b[0m\n\u001b[0m\u001b[1;32m    757\u001b[0m         \u001b[0;32melse\u001b[0m\u001b[0;34m:\u001b[0m\u001b[0;34m\u001b[0m\u001b[0m\n\u001b[1;32m    758\u001b[0m             \u001b[0;32mreturn\u001b[0m \u001b[0mself\u001b[0m\u001b[0;34m.\u001b[0m\u001b[0m_sock\u001b[0m\u001b[0;34m.\u001b[0m\u001b[0mrecv\u001b[0m\u001b[0;34m(\u001b[0m\u001b[0mbuflen\u001b[0m\u001b[0;34m,\u001b[0m \u001b[0mflags\u001b[0m\u001b[0;34m)\u001b[0m\u001b[0;34m\u001b[0m\u001b[0m\n",
      "\u001b[0;32m/Users/jenny/anaconda/lib/python2.7/ssl.pyc\u001b[0m in \u001b[0;36mread\u001b[0;34m(self, len, buffer)\u001b[0m\n\u001b[1;32m    641\u001b[0m                 \u001b[0mv\u001b[0m \u001b[0;34m=\u001b[0m \u001b[0mself\u001b[0m\u001b[0;34m.\u001b[0m\u001b[0m_sslobj\u001b[0m\u001b[0;34m.\u001b[0m\u001b[0mread\u001b[0m\u001b[0;34m(\u001b[0m\u001b[0mlen\u001b[0m\u001b[0;34m,\u001b[0m \u001b[0mbuffer\u001b[0m\u001b[0;34m)\u001b[0m\u001b[0;34m\u001b[0m\u001b[0m\n\u001b[1;32m    642\u001b[0m             \u001b[0;32melse\u001b[0m\u001b[0;34m:\u001b[0m\u001b[0;34m\u001b[0m\u001b[0m\n\u001b[0;32m--> 643\u001b[0;31m                 \u001b[0mv\u001b[0m \u001b[0;34m=\u001b[0m \u001b[0mself\u001b[0m\u001b[0;34m.\u001b[0m\u001b[0m_sslobj\u001b[0m\u001b[0;34m.\u001b[0m\u001b[0mread\u001b[0m\u001b[0;34m(\u001b[0m\u001b[0mlen\u001b[0m\u001b[0;34m)\u001b[0m\u001b[0;34m\u001b[0m\u001b[0m\n\u001b[0m\u001b[1;32m    644\u001b[0m             \u001b[0;32mreturn\u001b[0m \u001b[0mv\u001b[0m\u001b[0;34m\u001b[0m\u001b[0m\n\u001b[1;32m    645\u001b[0m         \u001b[0;32mexcept\u001b[0m \u001b[0mSSLError\u001b[0m \u001b[0;32mas\u001b[0m \u001b[0mx\u001b[0m\u001b[0;34m:\u001b[0m\u001b[0;34m\u001b[0m\u001b[0m\n",
      "\u001b[0;31mKeyboardInterrupt\u001b[0m: "
     ]
    }
   ],
   "source": [
    "'''\n",
    "THE BELOW CODE IS OPTIONAl\n",
    "It creates a stream of a given tag!\n",
    "'''\n",
    "\n",
    "# This is the listener, resposible for receiving data\n",
    "# I will not be covering this in class\n",
    "class StdOutListener(tweepy.StreamListener):\n",
    "    def on_data(self, data):\n",
    "        # Twitter returns data in JSON format - we need to decode it first\n",
    "        decoded = json.loads(data)\n",
    "        #print decoded\n",
    "        time_ =  time.strftime('%Y-%m-%d %H:%M:%S', time.localtime(int(decoded['timestamp_ms']) / 1000))\n",
    "        handle = decoded['user']['screen_name']\n",
    "        tweet_text = decoded['text'].encode('ascii', 'ignore')\n",
    "        num_followers = int(decoded['user']['followers_count'])\n",
    "        # Also, we convert UTF-8 to ASCII ignoring all bad characters sent by users\n",
    "        print '@%s at %s: %s with %d followers' % (handle, time_, tweet_text, num_followers)\n",
    "        print ''\n",
    "        return True\n",
    "    def on_error(self, status):\n",
    "        print status\n",
    "def begin_live_feed(tags_to_follow):\n",
    "    print \"beginning live feed....\"\n",
    "    l = StdOutListener()\n",
    "    auth = tweepy.OAuthHandler(api_key, api_secret)\n",
    "    auth.set_access_token(access_token, access_secret)\n",
    "    stream = tweepy.Stream(auth, l)\n",
    "    stream.filter(track=tags_to_follow)\n",
    "\n",
    "begin_live_feed(['donald trump', 'hillary clinton'])\n",
    "# this is an example use, if you create a list of words and phrases, \n",
    "# a live stream of tweets about them will show up\n",
    "\n",
    "# INTERUPT THE KERNEL TO STOP THE MADNESS"
   ]
  },
  {
   "cell_type": "code",
   "execution_count": 40,
   "metadata": {
    "collapsed": false
   },
   "outputs": [
    {
     "data": {
      "text/plain": [
       "'\\nOther considerations when accessing APIs:\\n- Most APIs require you to have an access key (which you should store outside your code)\\n- Most APIs limit the number of API calls you can make (per day, hour, minute, etc.)\\n- Not all APIs are free\\n- Not all APIs are well-documented\\n- Pay attention to the API version\\n\\nPython wrapper is another option for accessing an API:\\n- Set of functions that \"wrap\" the API code for ease of use\\n- Potentially simplifies your code\\n- But, wrapper could have bugs or be out-of-date or poorly documented\\n'"
      ]
     },
     "execution_count": 40,
     "metadata": {},
     "output_type": "execute_result"
    }
   ],
   "source": [
    "'''\n",
    "Other considerations when accessing APIs:\n",
    "- Most APIs require you to have an access key (which you should store outside your code)\n",
    "- Most APIs limit the number of API calls you can make (per day, hour, minute, etc.)\n",
    "- Not all APIs are free\n",
    "- Not all APIs are well-documented\n",
    "- Pay attention to the API version\n",
    "\n",
    "Python wrapper is another option for accessing an API:\n",
    "- Set of functions that \"wrap\" the API code for ease of use\n",
    "- Potentially simplifies your code\n",
    "- But, wrapper could have bugs or be out-of-date or poorly documented\n",
    "'''"
   ]
  },
  {
   "cell_type": "code",
   "execution_count": null,
   "metadata": {
    "collapsed": false
   },
   "outputs": [],
   "source": []
  },
  {
   "cell_type": "code",
   "execution_count": null,
   "metadata": {
    "collapsed": false
   },
   "outputs": [],
   "source": []
  },
  {
   "cell_type": "code",
   "execution_count": null,
   "metadata": {
    "collapsed": true
   },
   "outputs": [],
   "source": []
  },
  {
   "cell_type": "code",
   "execution_count": null,
   "metadata": {
    "collapsed": true
   },
   "outputs": [],
   "source": []
  },
  {
   "cell_type": "code",
   "execution_count": null,
   "metadata": {
    "collapsed": true
   },
   "outputs": [],
   "source": []
  },
  {
   "cell_type": "code",
   "execution_count": null,
   "metadata": {
    "collapsed": false
   },
   "outputs": [],
   "source": []
  },
  {
   "cell_type": "code",
   "execution_count": null,
   "metadata": {
    "collapsed": false
   },
   "outputs": [],
   "source": []
  },
  {
   "cell_type": "code",
   "execution_count": null,
   "metadata": {
    "collapsed": true
   },
   "outputs": [],
   "source": []
  },
  {
   "cell_type": "code",
   "execution_count": null,
   "metadata": {
    "collapsed": false
   },
   "outputs": [],
   "source": []
  },
  {
   "cell_type": "code",
   "execution_count": null,
   "metadata": {
    "collapsed": false
   },
   "outputs": [],
   "source": []
  },
  {
   "cell_type": "code",
   "execution_count": null,
   "metadata": {
    "collapsed": false
   },
   "outputs": [],
   "source": []
  },
  {
   "cell_type": "code",
   "execution_count": null,
   "metadata": {
    "collapsed": true
   },
   "outputs": [],
   "source": []
  }
 ],
 "metadata": {
  "anaconda-cloud": {},
  "kernelspec": {
   "display_name": "Python 2",
   "language": "python",
   "name": "python2"
  },
  "language_info": {
   "codemirror_mode": {
    "name": "ipython",
    "version": 2
   },
   "file_extension": ".py",
   "mimetype": "text/x-python",
   "name": "python",
   "nbconvert_exporter": "python",
   "pygments_lexer": "ipython2",
   "version": "2.7.12"
  }
 },
 "nbformat": 4,
 "nbformat_minor": 0
}
